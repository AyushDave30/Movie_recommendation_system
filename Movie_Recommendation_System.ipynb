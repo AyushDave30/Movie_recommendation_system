{
 "cells": [
  {
   "cell_type": "markdown",
   "metadata": {},
   "source": [
    "# Movie Recommendation System 🎬\n",
    "Hi there! Welcome to my project, where I’m learning Data Science by building a movie recommendation system from scratch. I’ve added  insights, explanations, and extra features to enhance learning. This project is inspired by @siddhardhan's YouTube tutorial [link](https://www.youtube.com/watch?v=YRkN5k47NSY). Let’s explore and learn together! 🚀 Suggestions and improvements are always welcome — let’s explore and learn together! "
   ]
  },
  {
   "cell_type": "markdown",
   "metadata": {},
   "source": [
    "## Step 1: Importing the Required Libraries\n",
    "Before we start, we need some libraries to help us handle data, process text, and calculate similarity."
   ]
  },
  {
   "cell_type": "code",
   "execution_count": 99,
   "metadata": {},
   "outputs": [],
   "source": [
    "# Import dependencies\n",
    "import pandas as pd\n",
    "import numpy as np\n",
    "import difflib\n",
    "from sklearn.feature_extraction.text import TfidfVectorizer\n",
    "from sklearn.metrics.pairwise import cosine_similarity"
   ]
  },
  {
   "cell_type": "markdown",
   "metadata": {},
   "source": [
    "- pandas (pd): Load, manipulate, and analyze data in tabular form.\n",
    "- numpy (np): Perform numerical operations and handle arrays.\n",
    "- difflib: Find close matches (helps handle typos in movie titles).\n",
    "- TfidfVectorizer: Convert text data into numerical vectors using TF-IDF.\n",
    "- cosine_similarity: Measure similarity between two vectors (used to compare movies).\n"
   ]
  },
  {
   "cell_type": "markdown",
   "metadata": {},
   "source": [
    "## Step 2: Loading the Dataset\n"
   ]
  },
  {
   "cell_type": "code",
   "execution_count": 100,
   "metadata": {},
   "outputs": [
    {
     "data": {
      "application/vnd.microsoft.datawrangler.viewer.v0+json": {
       "columns": [
        {
         "name": "index",
         "rawType": "int64",
         "type": "integer"
        },
        {
         "name": "index",
         "rawType": "int64",
         "type": "integer"
        },
        {
         "name": "budget",
         "rawType": "int64",
         "type": "integer"
        },
        {
         "name": "genres",
         "rawType": "object",
         "type": "string"
        },
        {
         "name": "homepage",
         "rawType": "object",
         "type": "string"
        },
        {
         "name": "id",
         "rawType": "int64",
         "type": "integer"
        },
        {
         "name": "keywords",
         "rawType": "object",
         "type": "string"
        },
        {
         "name": "original_language",
         "rawType": "object",
         "type": "string"
        },
        {
         "name": "original_title",
         "rawType": "object",
         "type": "string"
        },
        {
         "name": "overview",
         "rawType": "object",
         "type": "string"
        },
        {
         "name": "popularity",
         "rawType": "float64",
         "type": "float"
        },
        {
         "name": "production_companies",
         "rawType": "object",
         "type": "string"
        },
        {
         "name": "production_countries",
         "rawType": "object",
         "type": "string"
        },
        {
         "name": "release_date",
         "rawType": "object",
         "type": "string"
        },
        {
         "name": "revenue",
         "rawType": "int64",
         "type": "integer"
        },
        {
         "name": "runtime",
         "rawType": "float64",
         "type": "float"
        },
        {
         "name": "spoken_languages",
         "rawType": "object",
         "type": "string"
        },
        {
         "name": "status",
         "rawType": "object",
         "type": "string"
        },
        {
         "name": "tagline",
         "rawType": "object",
         "type": "string"
        },
        {
         "name": "title",
         "rawType": "object",
         "type": "string"
        },
        {
         "name": "vote_average",
         "rawType": "float64",
         "type": "float"
        },
        {
         "name": "vote_count",
         "rawType": "int64",
         "type": "integer"
        },
        {
         "name": "cast",
         "rawType": "object",
         "type": "string"
        },
        {
         "name": "crew",
         "rawType": "object",
         "type": "string"
        },
        {
         "name": "director",
         "rawType": "object",
         "type": "string"
        }
       ],
       "conversionMethod": "pd.DataFrame",
       "ref": "4834cbb4-6642-422c-95ca-eb05fe263701",
       "rows": [
        [
         "0",
         "0",
         "237000000",
         "Action Adventure Fantasy Science Fiction",
         "http://www.avatarmovie.com/",
         "19995",
         "culture clash future space war space colony society",
         "en",
         "Avatar",
         "In the 22nd century, a paraplegic Marine is dispatched to the moon Pandora on a unique mission, but becomes torn between following orders and protecting an alien civilization.",
         "150.437577",
         "[{\"name\": \"Ingenious Film Partners\", \"id\": 289}, {\"name\": \"Twentieth Century Fox Film Corporation\", \"id\": 306}, {\"name\": \"Dune Entertainment\", \"id\": 444}, {\"name\": \"Lightstorm Entertainment\", \"id\": 574}]",
         "[{\"iso_3166_1\": \"US\", \"name\": \"United States of America\"}, {\"iso_3166_1\": \"GB\", \"name\": \"United Kingdom\"}]",
         "2009-12-10",
         "2787965087",
         "162.0",
         "[{\"iso_639_1\": \"en\", \"name\": \"English\"}, {\"iso_639_1\": \"es\", \"name\": \"Espa\\u00f1ol\"}]",
         "Released",
         "Enter the World of Pandora.",
         "Avatar",
         "7.2",
         "11800",
         "Sam Worthington Zoe Saldana Sigourney Weaver Stephen Lang Michelle Rodriguez",
         "[{'name': 'Stephen E. Rivkin', 'gender': 0, 'department': 'Editing', 'job': 'Editor', 'credit_id': '52fe48009251416c750aca23', 'id': 1721}, {'name': 'Rick Carter', 'gender': 2, 'department': 'Art', 'job': 'Production Design', 'credit_id': '539c47ecc3a36810e3001f87', 'id': 496}, {'name': 'Christopher Boyes', 'gender': 0, 'department': 'Sound', 'job': 'Sound Designer', 'credit_id': '54491c89c3a3680fb4001cf7', 'id': 900}, {'name': 'Christopher Boyes', 'gender': 0, 'department': 'Sound', 'job': 'Supervising Sound Editor', 'credit_id': '54491cb70e0a267480001bd0', 'id': 900}, {'name': 'Mali Finn', 'gender': 1, 'department': 'Production', 'job': 'Casting', 'credit_id': '539c4a4cc3a36810c9002101', 'id': 1262}, {'name': 'James Horner', 'gender': 2, 'department': 'Sound', 'job': 'Original Music Composer', 'credit_id': '5544ee3b925141499f0008fc', 'id': 1729}, {'name': 'James Cameron', 'gender': 2, 'department': 'Directing', 'job': 'Director', 'credit_id': '52fe48009251416c750ac9c3', 'id': 2710}, {'name': 'James Cameron', 'gender': 2, 'department': 'Writing', 'job': 'Writer', 'credit_id': '52fe48009251416c750ac9d9', 'id': 2710}, {'name': 'James Cameron', 'gender': 2, 'department': 'Editing', 'job': 'Editor', 'credit_id': '52fe48009251416c750aca17', 'id': 2710}, {'name': 'James Cameron', 'gender': 2, 'department': 'Production', 'job': 'Producer', 'credit_id': '52fe48009251416c750aca29', 'id': 2710}, {'name': 'James Cameron', 'gender': 2, 'department': 'Writing', 'job': 'Screenplay', 'credit_id': '52fe48009251416c750aca3f', 'id': 2710}, {'name': 'Andrew Menzies', 'gender': 2, 'department': 'Art', 'job': 'Art Direction', 'credit_id': '539c4987c3a36810ba0021a4', 'id': 7236}, {'name': 'Jill Brooks', 'gender': 0, 'department': 'Visual Effects', 'job': 'Visual Effects Producer', 'credit_id': '549598c3c3a3686ae9004383', 'id': 6690}, {'name': 'Margery Simkin', 'gender': 1, 'department': 'Production', 'job': 'Casting', 'credit_id': '52fe48009251416c750aca4b', 'id': 6347}, {'name': 'Kevin Ishioka', 'gender': 2, 'department': 'Art', 'job': 'Supervising Art Director', 'credit_id': '570b6f419251417da70032fe', 'id': 6878}, {'name': 'Dick Bernstein', 'gender': 0, 'department': 'Sound', 'job': 'Music Editor', 'credit_id': '5495a0fac3a3686ae9004468', 'id': 6883}, {'name': 'Shannon Mills', 'gender': 0, 'department': 'Sound', 'job': 'Sound Effects Editor', 'credit_id': '54959706c3a3686af3003e81', 'id': 8159}, {'name': 'Dennie Thorpe', 'gender': 0, 'department': 'Sound', 'job': 'Foley', 'credit_id': '54491d58c3a3680fb1001ccb', 'id': 8160}, {'name': 'Jana Vance', 'gender': 0, 'department': 'Sound', 'job': 'Foley', 'credit_id': '54491d6cc3a3680fa5001b2c', 'id': 8163}, {'name': 'Deborah Lynn Scott', 'gender': 1, 'department': 'Costume & Make-Up', 'job': 'Costume Design', 'credit_id': '52fe48009251416c750aca57', 'id': 8527}, {'name': 'Jon Landau', 'gender': 2, 'department': 'Production', 'job': 'Producer', 'credit_id': '52fe48009251416c750aca2f', 'id': 8529}, {'name': 'Sean Haworth', 'gender': 0, 'department': 'Art', 'job': 'Art Direction', 'credit_id': '539c4937c3a36810ba002194', 'id': 9618}, {'name': 'Kim Sinclair', 'gender': 1, 'department': 'Art', 'job': 'Set Decoration', 'credit_id': '539c49b6c3a36810c10020e6', 'id': 12653}, {'name': 'Kim Sinclair', 'gender': 1, 'department': 'Art', 'job': 'Supervising Art Director', 'credit_id': '570b6f2f9251413a0e00020d', 'id': 12653}, {'name': 'Richard F. Mays', 'gender': 2, 'department': 'Art', 'job': 'Set Designer', 'credit_id': '54491a6c0e0a26748c001b19', 'id': 14350}, {'name': 'Laeta Kalogridis', 'gender': 1, 'department': 'Production', 'job': 'Executive Producer', 'credit_id': '56928cf4c3a3684cff0025c4', 'id': 20294}, {'name': 'Mayes C. Rubeo', 'gender': 0, 'department': 'Costume & Make-Up', 'job': 'Costume Design', 'credit_id': '52fe48009251416c750aca51', 'id': 17675}, {'name': 'Mauro Fiore', 'gender': 2, 'department': 'Camera', 'job': 'Director of Photography', 'credit_id': '52fe48009251416c750aca11', 'id': 18265}, {'name': 'Scott Herbertson', 'gender': 0, 'department': 'Art', 'job': 'Set Designer', 'credit_id': '5449194d0e0a26748f001b39', 'id': 42281}, {'name': 'Woody Schultz', 'gender': 0, 'department': 'Crew', 'job': 'Stunts', 'credit_id': '52fe48009251416c750aca05', 'id': 42288}, {'name': 'Linda DeVetta', 'gender': 0, 'department': 'Costume & Make-Up', 'job': 'Makeup Artist', 'credit_id': '5592aefb92514152de0010f5', 'id': 29067}, {'name': 'Linda DeVetta', 'gender': 0, 'department': 'Costume & Make-Up', 'job': 'Hairstylist', 'credit_id': '5592afa492514152de00112c', 'id': 29067}, {'name': 'Richard Bluck', 'gender': 2, 'department': 'Camera', 'job': 'Camera Operator', 'credit_id': '54959ed592514130fc002e5d', 'id': 33302}, {'name': 'Simon Bright', 'gender': 2, 'department': 'Art', 'job': 'Art Direction', 'credit_id': '539c4891c3a36810ba002147', 'id': 33303}, {'name': 'Richard Martin', 'gender': 0, 'department': 'Visual Effects', 'job': 'Visual Effects Supervisor', 'credit_id': '54959c069251417a81001f3a', 'id': 113145}, {'name': 'Steve R. Moore', 'gender': 2, 'department': 'Crew', 'job': 'Visual Effects Editor', 'credit_id': '54959a0dc3a3680ff5002c8d', 'id': 58188}, {'name': 'John Refoua', 'gender': 2, 'department': 'Editing', 'job': 'Editor', 'credit_id': '52fe48009251416c750aca1d', 'id': 58871}, {'name': 'Karl J. Martin', 'gender': 0, 'department': 'Art', 'job': 'Set Designer', 'credit_id': '54491a4dc3a3680fc30018ca', 'id': 92359}, {'name': 'Chiling Lin', 'gender': 1, 'department': 'Camera', 'job': 'Director of Photography', 'credit_id': '52fe48009251416c750aca35', 'id': 72201}, {'name': 'Ilram Choi', 'gender': 0, 'department': 'Crew', 'job': 'Stunts', 'credit_id': '52fe48009251416c750ac9ff', 'id': 89714}, {'name': 'Steven Quale', 'gender': 2, 'department': 'Visual Effects', 'job': 'Visual Effects Supervisor', 'credit_id': '54959c529251416e2b004394', 'id': 93214}, {'name': 'Carla Meyer', 'gender': 1, 'department': 'Crew', 'job': 'Dialect Coach', 'credit_id': '54491edf0e0a267489001c37', 'id': 122607}, {'name': 'Nick Bassett', 'gender': 2, 'department': 'Art', 'job': 'Art Direction', 'credit_id': '539c485bc3a368653d001a3a', 'id': 132585}, {'name': 'Jill Cormack', 'gender': 0, 'department': 'Art', 'job': 'Art Direction', 'credit_id': '539c4903c3a368653d001a74', 'id': 132596}, {'name': 'Andy McLaren', 'gender': 0, 'department': 'Art', 'job': 'Art Direction', 'credit_id': '539c4967c3a368653d001a94', 'id': 132604}, {'name': 'Terry Notary', 'gender': 0, 'department': 'Crew', 'job': 'Motion Capture Artist', 'credit_id': '52fe48009251416c750aca45', 'id': 236696}, {'name': 'Garrett Warren', 'gender': 2, 'department': 'Crew', 'job': 'Stunt Coordinator', 'credit_id': '54959e02c3a3680fc60027d2', 'id': 956198}, {'name': 'Jonathan Rothbart', 'gender': 2, 'department': 'Visual Effects', 'job': 'Visual Effects Supervisor', 'credit_id': '54959ca3c3a3686ae300438c', 'id': 957874}, {'name': 'Stefan Dechant', 'gender': 0, 'department': 'Art', 'job': 'Supervising Art Director', 'credit_id': '570b6f519251412c74001b2f', 'id': 957889}, {'name': 'Todd Cherniawsky', 'gender': 2, 'department': 'Art', 'job': 'Supervising Art Director', 'credit_id': '570b6f62c3a3680b77007460', 'id': 959555}, {'name': 'Miranda Rivers', 'gender': 0, 'department': 'Production', 'job': 'Casting', 'credit_id': '539c4a3ac3a36810da0021cc', 'id': 1016177}, {'name': 'Robert Stromberg', 'gender': 0, 'department': 'Art', 'job': 'Production Design', 'credit_id': '539c482cc3a36810c1002062', 'id': 1032536}, {'name': 'John Harding', 'gender': 2, 'department': 'Costume & Make-Up', 'job': 'Costume Design', 'credit_id': '539c4b65c3a36810c9002125', 'id': 1071680}, {'name': 'Roberto De Angelis', 'gender': 0, 'department': 'Camera', 'job': 'Steadicam Operator', 'credit_id': '54959e6692514130fc002e4e', 'id': 1177364}, {'name': 'Mike Smithson', 'gender': 2, 'department': 'Costume & Make-Up', 'job': 'Makeup Department Head', 'credit_id': '539c49f1c3a368653d001aac', 'id': 1202850}, {'name': 'Alain Lalanne', 'gender': 0, 'department': 'Visual Effects', 'job': 'Visual Effects Producer', 'credit_id': '5495999ec3a3686ae100460c', 'id': 1204668}, {'name': 'Lucas Salton', 'gender': 0, 'department': 'Visual Effects', 'job': 'Visual Effects Supervisor', 'credit_id': '54959cdfc3a3681153002729', 'id': 1206410}, {'name': 'Janace Tashjian', 'gender': 0, 'department': 'Crew', 'job': 'Post Production Supervisor', 'credit_id': '549596239251417a81001eae', 'id': 1234266}, {'name': 'Stephen Rosenbaum', 'gender': 0, 'department': 'Visual Effects', 'job': 'Visual Effects Supervisor', 'credit_id': '54959c859251416e1e003efe', 'id': 1271932}, {'name': 'Frankie Karena', 'gender': 0, 'department': 'Costume & Make-Up', 'job': 'Makeup Artist', 'credit_id': '5592af28c3a368775a00105f', 'id': 1310064}, {'name': 'Lisa Lovaas', 'gender': 1, 'department': 'Costume & Make-Up', 'job': 'Costume Supervisor', 'credit_id': '539c4adfc3a36810e300203b', 'id': 1319844}, {'name': 'Jonathan Fawkner', 'gender': 0, 'department': 'Visual Effects', 'job': 'Visual Effects Supervisor', 'credit_id': '54959b579251416e2b004371', 'id': 1327028}, {'name': 'Robert Bavin', 'gender': 0, 'department': 'Art', 'job': 'Art Direction', 'credit_id': '539c48a7c3a36810b5001fa7', 'id': 1330561}, {'name': 'Anthony Almaraz', 'gender': 0, 'department': 'Costume & Make-Up', 'job': 'Costume Supervisor', 'credit_id': '539c4a71c3a36810da0021e0', 'id': 1330567}, {'name': 'Carolyn M. Fenton', 'gender': 0, 'department': 'Costume & Make-Up', 'job': 'Costume Supervisor', 'credit_id': '539c4a8ac3a36810ba0021e4', 'id': 1330570}, {'name': 'Beth Koenigsberg', 'gender': 0, 'department': 'Costume & Make-Up', 'job': 'Costume Supervisor', 'credit_id': '539c4ab6c3a36810da0021f0', 'id': 1330574}, {'name': 'Sam Page', 'gender': 0, 'department': 'Art', 'job': 'Set Designer', 'credit_id': '54491ab70e0a267480001ba2', 'id': 1336191}, {'name': 'Tex Kadonaga', 'gender': 0, 'department': 'Art', 'job': 'Set Designer', 'credit_id': '544919d9c3a3680fc30018bd', 'id': 1339441}, {'name': 'Kim Foscato', 'gender': 0, 'department': 'Editing', 'job': 'Dialogue Editor', 'credit_id': '54491cf50e0a267483001b0c', 'id': 1352422}, {'name': 'Tammy S. Lee', 'gender': 0, 'department': 'Art', 'job': 'Set Designer', 'credit_id': '544919f40e0a26748c001b09', 'id': 1352962}, {'name': 'Denny Caira', 'gender': 0, 'department': 'Crew', 'job': 'Transportation Coordinator', 'credit_id': '5495a115c3a3680ff5002d71', 'id': 1357070}, {'name': 'James Waitkus', 'gender': 0, 'department': 'Crew', 'job': 'Transportation Coordinator', 'credit_id': '5495a12f92514130fc002e94', 'id': 1357071}, {'name': 'Addison Teague', 'gender': 0, 'department': 'Sound', 'job': 'Supervising Sound Editor', 'credit_id': '5495976fc3a36811530026b0', 'id': 1360103}, {'name': 'C. Scott Baker', 'gender': 2, 'department': 'Art', 'job': 'Set Designer', 'credit_id': '54491837c3a3680fb1001c5a', 'id': 1376887}, {'name': 'Luke Caska', 'gender': 0, 'department': 'Art', 'job': 'Set Designer', 'credit_id': '54491878c3a3680fb4001c9d', 'id': 1376888}, {'name': 'David Chow', 'gender': 0, 'department': 'Art', 'job': 'Set Designer', 'credit_id': '544918dac3a3680fa5001ae0', 'id': 1376889}, {'name': 'Jonathan Dyer', 'gender': 0, 'department': 'Art', 'job': 'Set Designer', 'credit_id': '544919110e0a267486001b68', 'id': 1376890}, {'name': 'Joseph Hiura', 'gender': 0, 'department': 'Art', 'job': 'Set Designer', 'credit_id': '54491967c3a3680faa001b5e', 'id': 1376891}, {'name': 'Rebecca Jellie', 'gender': 0, 'department': 'Art', 'job': 'Art Department Coordinator', 'credit_id': '54491997c3a3680fb1001c8a', 'id': 1376892}, {'name': 'Robert Andrew Johnson', 'gender': 0, 'department': 'Art', 'job': 'Set Designer', 'credit_id': '544919ba0e0a26748f001b42', 'id': 1376893}, {'name': 'Mike Stassi', 'gender': 0, 'department': 'Art', 'job': 'Assistant Art Director', 'credit_id': '54491b1dc3a3680faa001b8c', 'id': 1376895}, {'name': 'John Villarino', 'gender': 0, 'department': 'Art', 'job': 'Construction Coordinator', 'credit_id': '54491b79c3a3680fbb001826', 'id': 1376897}, {'name': 'Jeffrey Wisniewski', 'gender': 2, 'department': 'Art', 'job': 'Assistant Art Director', 'credit_id': '54491baec3a3680fb4001ce6', 'id': 1376898}, {'name': 'Cheryl Nardi', 'gender': 0, 'department': 'Editing', 'job': 'Dialogue Editor', 'credit_id': '54491d2fc3a3680fb4001d07', 'id': 1376899}, {'name': 'Marshall Winn', 'gender': 0, 'department': 'Editing', 'job': 'Dialogue Editor', 'credit_id': '54491d86c3a3680fa5001b2f', 'id': 1376901}, {'name': 'Gwendolyn Yates Whittle', 'gender': 0, 'department': 'Sound', 'job': 'Supervising Sound Editor', 'credit_id': '54491d9dc3a3680faa001bb0', 'id': 1376902}, {'name': 'William Stein', 'gender': 0, 'department': 'Sound', 'job': 'Sound Re-Recording Mixer', 'credit_id': '54491dc10e0a267486001bce', 'id': 1376903}, {'name': 'Lula Washington', 'gender': 0, 'department': 'Crew', 'job': 'Choreographer', 'credit_id': '54491f500e0a26747c001c07', 'id': 1376909}, {'name': 'Chris Del Conte', 'gender': 0, 'department': 'Visual Effects', 'job': 'Visual Effects Producer', 'credit_id': '549599239251412c4e002a2e', 'id': 1391692}, {'name': 'R. Christopher White', 'gender': 2, 'department': 'Visual Effects', 'job': 'Visual Effects Supervisor', 'credit_id': '54959d54c3a36831b8001d9a', 'id': 1391695}, {'name': 'Dan Lemmon', 'gender': 0, 'department': 'Visual Effects', 'job': 'Visual Effects Supervisor', 'credit_id': '54959bdf9251412c4e002a66', 'id': 1394070}, {'name': 'Tim Nielsen', 'gender': 0, 'department': 'Sound', 'job': 'Sound Effects Editor', 'credit_id': '5495971d92514132ed002922', 'id': 1394129}, {'name': 'Michael Mulholland', 'gender': 0, 'department': 'Crew', 'job': 'CG Supervisor', 'credit_id': '5592b25792514152cc0011aa', 'id': 1394286}, {'name': 'Thomas Nittmann', 'gender': 0, 'department': 'Crew', 'job': 'Visual Effects Editor', 'credit_id': '54959a329251416e2b004355', 'id': 1394750}, {'name': 'Edson Williams', 'gender': 0, 'department': 'Visual Effects', 'job': 'Visual Effects Supervisor', 'credit_id': '54959d6dc3a3686ae9004401', 'id': 1394755}, {'name': 'Christine Carr', 'gender': 0, 'department': 'Editing', 'job': 'Digital Intermediate', 'credit_id': '5495a08fc3a3686ae300441c', 'id': 1394953}, {'name': 'John Bruno', 'gender': 0, 'department': 'Visual Effects', 'job': 'Visual Effects Supervisor', 'credit_id': '55402d659251413d6d000249', 'id': 1395269}, {'name': 'David Emmerichs', 'gender': 0, 'department': 'Camera', 'job': 'Steadicam Operator', 'credit_id': '54959e7b9251416e1e003f3e', 'id': 1398970}, {'name': 'Christopher Scarabosio', 'gender': 0, 'department': 'Sound', 'job': 'Sound Effects Editor', 'credit_id': '54959734c3a3686ae10045e0', 'id': 1400906}, {'name': 'Jennifer Teves', 'gender': 0, 'department': 'Production', 'job': 'Production Supervisor', 'credit_id': '549595dd92514130fc002d79', 'id': 1401784}, {'name': 'Brigitte Yorke', 'gender': 0, 'department': 'Production', 'job': 'Production Manager', 'credit_id': '549596009251413af70028cc', 'id': 1401785}, {'name': 'Ken Fischer', 'gender': 0, 'department': 'Sound', 'job': 'Sound Effects Editor', 'credit_id': '549596e892514130fc002d99', 'id': 1401786}, {'name': 'Iain Hutton', 'gender': 0, 'department': 'Crew', 'job': 'Special Effects Coordinator', 'credit_id': '549598229251412c4e002a1c', 'id': 1401787}, {'name': 'Steve Ingram', 'gender': 0, 'department': 'Crew', 'job': 'Special Effects Coordinator', 'credit_id': '549598349251416e2b00432b', 'id': 1401788}, {'name': 'Joyce Cox', 'gender': 0, 'department': 'Visual Effects', 'job': 'Visual Effects Producer', 'credit_id': '54959905c3a3686ae3004324', 'id': 1401789}, {'name': 'Jenny Foster', 'gender': 0, 'department': 'Visual Effects', 'job': 'Visual Effects Producer', 'credit_id': '5495994b92514132ed002951', 'id': 1401790}, {'name': 'Christopher Marino', 'gender': 0, 'department': 'Crew', 'job': 'Visual Effects Editor', 'credit_id': '549599cbc3a3686ae1004613', 'id': 1401791}, {'name': 'Jim Milton', 'gender': 0, 'department': 'Crew', 'job': 'Visual Effects Editor', 'credit_id': '549599f2c3a3686ae100461e', 'id': 1401792}, {'name': 'Cyndi Ochs', 'gender': 0, 'department': 'Visual Effects', 'job': 'Visual Effects Producer', 'credit_id': '54959a51c3a3686af3003eb5', 'id': 1401793}, {'name': 'Lucas Putnam', 'gender': 0, 'department': 'Crew', 'job': 'Visual Effects Editor', 'credit_id': '54959a7cc3a36811530026f4', 'id': 1401794}, {'name': \"Anthony 'Max' Ivins\", 'gender': 0, 'department': 'Visual Effects', 'job': 'Visual Effects Supervisor', 'credit_id': '54959b91c3a3680ff5002cb4', 'id': 1401795}, {'name': 'John Knoll', 'gender': 0, 'department': 'Visual Effects', 'job': 'Visual Effects Supervisor', 'credit_id': '54959bb69251412c4e002a5f', 'id': 1401796}, {'name': 'Eric Saindon', 'gender': 2, 'department': 'Visual Effects', 'job': 'Visual Effects Supervisor', 'credit_id': '54959cbbc3a3686ae3004391', 'id': 1401799}, {'name': 'Wayne Stables', 'gender': 0, 'department': 'Visual Effects', 'job': 'Visual Effects Supervisor', 'credit_id': '54959d06c3a3686ae90043f6', 'id': 1401800}, {'name': 'David Stinnett', 'gender': 0, 'department': 'Visual Effects', 'job': 'Visual Effects Supervisor', 'credit_id': '54959d259251416e1e003f11', 'id': 1401801}, {'name': 'Guy Williams', 'gender': 0, 'department': 'Visual Effects', 'job': 'Visual Effects Supervisor', 'credit_id': '54959db49251413af7002975', 'id': 1401803}, {'name': 'Stuart Thorp', 'gender': 0, 'department': 'Crew', 'job': 'Stunt Coordinator', 'credit_id': '54959de4c3a3681153002750', 'id': 1401804}, {'name': 'Giles Coburn', 'gender': 0, 'department': 'Lighting', 'job': 'Best Boy Electric', 'credit_id': '54959ef2c3a3680fc60027f2', 'id': 1401805}, {'name': 'Mark Fellman', 'gender': 2, 'department': 'Camera', 'job': 'Still Photographer', 'credit_id': '54959f07c3a3680fc60027f9', 'id': 1401806}, {'name': 'Scott Sprague', 'gender': 0, 'department': 'Lighting', 'job': 'Lighting Technician', 'credit_id': '54959f47c3a3681153002774', 'id': 1401807}, {'name': 'Jeremy Hollobon', 'gender': 0, 'department': 'Visual Effects', 'job': 'Animation Director', 'credit_id': '54959f8cc3a36831b8001df2', 'id': 1401808}, {'name': 'Orlando Meunier', 'gender': 0, 'department': 'Visual Effects', 'job': 'Animation Director', 'credit_id': '54959fa0c3a36831b8001dfb', 'id': 1401809}, {'name': 'Taisuke Tanimura', 'gender': 0, 'department': 'Visual Effects', 'job': 'Animation Director', 'credit_id': '54959fb6c3a3686af3003f54', 'id': 1401810}, {'name': 'Lilia Mishel Acevedo', 'gender': 0, 'department': 'Costume & Make-Up', 'job': 'Set Costumer', 'credit_id': '54959fd2c3a36831b8001e02', 'id': 1401812}, {'name': 'Alejandro M. Hernandez', 'gender': 0, 'department': 'Costume & Make-Up', 'job': 'Set Costumer', 'credit_id': '54959ff9c3a3686ae300440c', 'id': 1401814}, {'name': 'Marvin Hall', 'gender': 0, 'department': 'Editing', 'job': 'Digital Intermediate', 'credit_id': '5495a0ddc3a3686ae10046fe', 'id': 1401815}, {'name': 'Judy Alley', 'gender': 0, 'department': 'Production', 'job': 'Publicist', 'credit_id': '5495a1f7c3a3686ae3004443', 'id': 1401816}, {'name': 'Mike Perry', 'gender': 0, 'department': 'Crew', 'job': 'CG Supervisor', 'credit_id': '5592b29fc3a36869d100002f', 'id': 1418381}, {'name': 'Andrew Morley', 'gender': 0, 'department': 'Crew', 'job': 'CG Supervisor', 'credit_id': '5592b23a9251415df8001081', 'id': 1426854}, {'name': 'Seth Engstrom', 'gender': 0, 'department': 'Art', 'job': 'Conceptual Design', 'credit_id': '55491e1192514104c40002d8', 'id': 1438901}, {'name': 'Eric Oliver', 'gender': 0, 'department': 'Crew', 'job': 'Visual Effects Art Director', 'credit_id': '5525d5809251417276002b06', 'id': 1447362}, {'name': 'Matsune Suzuki', 'gender': 0, 'department': 'Visual Effects', 'job': 'Modeling', 'credit_id': '554427ca925141586500312a', 'id': 1447503}, {'name': 'Paul Tobin', 'gender': 0, 'department': 'Art', 'job': 'Art Department Manager', 'credit_id': '551906889251415aab001c88', 'id': 1447524}, {'name': 'Roxane Griffin', 'gender': 0, 'department': 'Costume & Make-Up', 'job': 'Hairstylist', 'credit_id': '5592af8492514152cc0010de', 'id': 1452643}, {'name': 'Arun Ram-Mohan', 'gender': 0, 'department': 'Lighting', 'job': 'Lighting Artist', 'credit_id': '553d3c109251415852001318', 'id': 1453938}, {'name': 'Georgia Lockhart-Adams', 'gender': 0, 'department': 'Costume & Make-Up', 'job': 'Makeup Artist', 'credit_id': '5592af4692514152d5001355', 'id': 1457305}, {'name': 'Thrain Shadbolt', 'gender': 0, 'department': 'Crew', 'job': 'CG Supervisor', 'credit_id': '5592b2eac3a36877470012a5', 'id': 1466035}, {'name': 'Brad Alexander', 'gender': 0, 'department': 'Crew', 'job': 'CG Supervisor', 'credit_id': '5592b032c3a36877450015f1', 'id': 1483220}, {'name': 'Shadi Almassizadeh', 'gender': 0, 'department': 'Crew', 'job': 'CG Supervisor', 'credit_id': '5592b05592514152d80012f6', 'id': 1483221}, {'name': 'Simon Clutterbuck', 'gender': 0, 'department': 'Crew', 'job': 'CG Supervisor', 'credit_id': '5592b090c3a36877570010b5', 'id': 1483222}, {'name': 'Graeme Demmocks', 'gender': 0, 'department': 'Crew', 'job': 'CG Supervisor', 'credit_id': '5592b0dbc3a368774b00112c', 'id': 1483223}, {'name': 'Adrian Fernandes', 'gender': 0, 'department': 'Crew', 'job': 'CG Supervisor', 'credit_id': '5592b0fe92514152db0010c1', 'id': 1483224}, {'name': 'Mitch Gates', 'gender': 0, 'department': 'Crew', 'job': 'CG Supervisor', 'credit_id': '5592b11f9251415df8001059', 'id': 1483225}, {'name': 'Jerry Kung', 'gender': 0, 'department': 'Crew', 'job': 'CG Supervisor', 'credit_id': '5592b15dc3a3687745001645', 'id': 1483226}, {'name': 'Andy Lomas', 'gender': 0, 'department': 'Crew', 'job': 'CG Supervisor', 'credit_id': '5592b18e925141645a0004ae', 'id': 1483227}, {'name': 'Sebastian Marino', 'gender': 0, 'department': 'Crew', 'job': 'CG Supervisor', 'credit_id': '5592b1bfc3a368775d0010e7', 'id': 1483228}, {'name': 'Matthias Menz', 'gender': 0, 'department': 'Crew', 'job': 'CG Supervisor', 'credit_id': '5592b2049251415df8001078', 'id': 1483229}, {'name': 'Sergei Nevshupov', 'gender': 0, 'department': 'Crew', 'job': 'CG Supervisor', 'credit_id': '5592b27b92514152d800136a', 'id': 1483230}, {'name': 'Philippe Rebours', 'gender': 0, 'department': 'Crew', 'job': 'CG Supervisor', 'credit_id': '5592b2c3c3a36869e800003c', 'id': 1483231}, {'name': 'Michael Takarangi', 'gender': 0, 'department': 'Crew', 'job': 'CG Supervisor', 'credit_id': '5592b317c3a36877470012af', 'id': 1483232}, {'name': 'David Weitzberg', 'gender': 0, 'department': 'Crew', 'job': 'CG Supervisor', 'credit_id': '5592b345c3a36877470012bb', 'id': 1483233}, {'name': 'Ben White', 'gender': 0, 'department': 'Crew', 'job': 'CG Supervisor', 'credit_id': '5592b37cc3a368775100113b', 'id': 1483234}, {'name': 'Min Windle', 'gender': 1, 'department': 'Crew', 'job': 'Stunts', 'credit_id': '573c8e2f9251413f5d000094', 'id': 1621932}]",
         "James Cameron"
        ],
        [
         "1",
         "1",
         "300000000",
         "Adventure Fantasy Action",
         "http://disney.go.com/disneypictures/pirates/",
         "285",
         "ocean drug abuse exotic island east india trading company love of one's life",
         "en",
         "Pirates of the Caribbean: At World's End",
         "Captain Barbossa, long believed to be dead, has come back to life and is headed to the edge of the Earth with Will Turner and Elizabeth Swann. But nothing is quite as it seems.",
         "139.082615",
         "[{\"name\": \"Walt Disney Pictures\", \"id\": 2}, {\"name\": \"Jerry Bruckheimer Films\", \"id\": 130}, {\"name\": \"Second Mate Productions\", \"id\": 19936}]",
         "[{\"iso_3166_1\": \"US\", \"name\": \"United States of America\"}]",
         "2007-05-19",
         "961000000",
         "169.0",
         "[{\"iso_639_1\": \"en\", \"name\": \"English\"}]",
         "Released",
         "At the end of the world, the adventure begins.",
         "Pirates of the Caribbean: At World's End",
         "6.9",
         "4500",
         "Johnny Depp Orlando Bloom Keira Knightley Stellan Skarsg\\u00e5rd Chow Yun-fat",
         "[{'name': 'Dariusz Wolski', 'gender': 2, 'department': 'Camera', 'job': 'Director of Photography', 'credit_id': '52fe4232c3a36847f800b579', 'id': 120}, {'name': 'Gore Verbinski', 'gender': 2, 'department': 'Directing', 'job': 'Director', 'credit_id': '52fe4232c3a36847f800b4fd', 'id': 1704}, {'name': 'Jerry Bruckheimer', 'gender': 2, 'department': 'Production', 'job': 'Producer', 'credit_id': '52fe4232c3a36847f800b54f', 'id': 770}, {'name': 'Ted Elliott', 'gender': 2, 'department': 'Writing', 'job': 'Screenplay', 'credit_id': '52fe4232c3a36847f800b503', 'id': 1705}, {'name': 'Terry Rossio', 'gender': 2, 'department': 'Writing', 'job': 'Screenplay', 'credit_id': '52fe4232c3a36847f800b509', 'id': 1706}, {'name': 'Stephen E. Rivkin', 'gender': 0, 'department': 'Editing', 'job': 'Editor', 'credit_id': '52fe4232c3a36847f800b57f', 'id': 1721}, {'name': 'Craig Wood', 'gender': 2, 'department': 'Editing', 'job': 'Editor', 'credit_id': '52fe4232c3a36847f800b585', 'id': 1722}, {'name': 'Hans Zimmer', 'gender': 2, 'department': 'Sound', 'job': 'Original Music Composer', 'credit_id': '52fe4232c3a36847f800b573', 'id': 947}, {'name': 'Mike Stenson', 'gender': 2, 'department': 'Production', 'job': 'Executive Producer', 'credit_id': '52fe4232c3a36847f800b555', 'id': 2444}, {'name': 'Eric McLeod', 'gender': 2, 'department': 'Production', 'job': 'Producer', 'credit_id': '52fe4232c3a36847f800b561', 'id': 2445}, {'name': 'Chad Oman', 'gender': 2, 'department': 'Production', 'job': 'Producer', 'credit_id': '52fe4232c3a36847f800b55b', 'id': 2446}, {'name': 'Peter Kohn', 'gender': 0, 'department': 'Production', 'job': 'Producer', 'credit_id': '52fe4232c3a36847f800b567', 'id': 2447}, {'name': 'Pat Sandston', 'gender': 0, 'department': 'Production', 'job': 'Producer', 'credit_id': '52fe4232c3a36847f800b56d', 'id': 2448}, {'name': 'Denise Chamian', 'gender': 1, 'department': 'Production', 'job': 'Casting', 'credit_id': '52fe4232c3a36847f800b58b', 'id': 2215}, {'name': 'Rick Heinrichs', 'gender': 2, 'department': 'Art', 'job': 'Production Design', 'credit_id': '52fe4232c3a36847f800b597', 'id': 1226}, {'name': 'John Dexter', 'gender': 2, 'department': 'Art', 'job': 'Art Direction', 'credit_id': '52fe4232c3a36847f800b59d', 'id': 553}, {'name': 'Priscilla John', 'gender': 1, 'department': 'Production', 'job': 'Casting', 'credit_id': '52fe4232c3a36847f800b591', 'id': 3311}, {'name': 'Cheryl Carasik', 'gender': 1, 'department': 'Art', 'job': 'Set Decoration', 'credit_id': '52fe4232c3a36847f800b5a3', 'id': 4032}, {'name': 'Liz Dann', 'gender': 0, 'department': 'Costume & Make-Up', 'job': 'Costume Design', 'credit_id': '52fe4232c3a36847f800b5a9', 'id': 4033}, {'name': 'Penny Rose', 'gender': 1, 'department': 'Costume & Make-Up', 'job': 'Costume Design', 'credit_id': '52fe4232c3a36847f800b5af', 'id': 4034}, {'name': 'Bob Badami', 'gender': 2, 'department': 'Sound', 'job': 'Music Supervisor', 'credit_id': '56427ce8c3a3686a53000d8b', 'id': 5132}, {'name': 'James Ward Byrkit', 'gender': 2, 'department': 'Art', 'job': 'Conceptual Design', 'credit_id': '55993c15c3a36855db002f33', 'id': 146439}, {'name': 'Ve Neill', 'gender': 1, 'department': 'Costume & Make-Up', 'job': 'Makeup Department Head', 'credit_id': '52fe4232c3a36847f800b5b9', 'id': 406204}, {'name': 'John Dixon', 'gender': 2, 'department': 'Crew', 'job': 'Stunts', 'credit_id': '56e47f7892514132690017bd', 'id': 1259516}, {'name': 'Dottie Starling', 'gender': 0, 'department': 'Crew', 'job': 'CGI Supervisor', 'credit_id': '5740be639251416597000849', 'id': 1336716}, {'name': 'Pamela Alch', 'gender': 1, 'department': 'Directing', 'job': 'Script Supervisor', 'credit_id': '56427c639251412fc8000dc1', 'id': 1344278}, {'name': 'Allen Hall', 'gender': 0, 'department': 'Crew', 'job': 'Special Effects Coordinator', 'credit_id': '57083101c3a3681d320004e6', 'id': 1368867}, {'name': 'Melissa Muik', 'gender': 0, 'department': 'Sound', 'job': 'Music Editor', 'credit_id': '56427d5ec3a3686a62000d4a', 'id': 1368884}, {'name': 'Sharron Reynolds', 'gender': 1, 'department': 'Directing', 'job': 'Script Supervisor', 'credit_id': '56427c7b9251412fd4000e07', 'id': 1395290}, {'name': 'Barbara McDermott', 'gender': 0, 'department': 'Sound', 'job': 'Music Editor', 'credit_id': '56427d2bc3a3686a53000d9b', 'id': 1399327}, {'name': 'Karen Golden', 'gender': 1, 'department': 'Directing', 'job': 'Script Supervisor', 'credit_id': '56427cb4c3a3686a53000d87', 'id': 1400738}, {'name': 'Katie Greathouse', 'gender': 0, 'department': 'Sound', 'job': 'Music Editor', 'credit_id': '56427d169251412fd4000e23', 'id': 1534197}]",
         "Gore Verbinski"
        ],
        [
         "2",
         "2",
         "245000000",
         "Action Adventure Crime",
         "http://www.sonypictures.com/movies/spectre/",
         "206647",
         "spy based on novel secret agent sequel mi6",
         "en",
         "Spectre",
         "A cryptic message from Bond’s past sends him on a trail to uncover a sinister organization. While M battles political forces to keep the secret service alive, Bond peels back the layers of deceit to reveal the terrible truth behind SPECTRE.",
         "107.376788",
         "[{\"name\": \"Columbia Pictures\", \"id\": 5}, {\"name\": \"Danjaq\", \"id\": 10761}, {\"name\": \"B24\", \"id\": 69434}]",
         "[{\"iso_3166_1\": \"GB\", \"name\": \"United Kingdom\"}, {\"iso_3166_1\": \"US\", \"name\": \"United States of America\"}]",
         "2015-10-26",
         "880674609",
         "148.0",
         "[{\"iso_639_1\": \"fr\", \"name\": \"Fran\\u00e7ais\"}, {\"iso_639_1\": \"en\", \"name\": \"English\"}, {\"iso_639_1\": \"es\", \"name\": \"Espa\\u00f1ol\"}, {\"iso_639_1\": \"it\", \"name\": \"Italiano\"}, {\"iso_639_1\": \"de\", \"name\": \"Deutsch\"}]",
         "Released",
         "A Plan No One Escapes",
         "Spectre",
         "6.3",
         "4466",
         "Daniel Craig Christoph Waltz L\\u00e9a Seydoux Ralph Fiennes Monica Bellucci",
         "[{'name': 'Thomas Newman', 'gender': 2, 'department': 'Sound', 'job': 'Original Music Composer', 'credit_id': '54805967c3a36829b5002c41', 'id': 153}, {'name': 'Sam Mendes', 'gender': 2, 'department': 'Directing', 'job': 'Director', 'credit_id': '52fe4d22c3a368484e1d8d77', 'id': 39}, {'name': 'Anna Pinnock', 'gender': 1, 'department': 'Art', 'job': 'Set Decoration', 'credit_id': '5677cd99925141691a005333', 'id': 8384}, {'name': 'John Logan', 'gender': 2, 'department': 'Writing', 'job': 'Screenplay', 'credit_id': '52fe4d22c3a368484e1d8d8d', 'id': 932}, {'name': 'John Logan', 'gender': 2, 'department': 'Writing', 'job': 'Story', 'credit_id': '562fc9bb92514129fe0006b4', 'id': 932}, {'name': 'Dennis Gassner', 'gender': 2, 'department': 'Art', 'job': 'Production Design', 'credit_id': '5654d41c92514145c3000373', 'id': 4248}, {'name': 'Ian Fleming', 'gender': 2, 'department': 'Writing', 'job': 'Characters', 'credit_id': '52fe4d22c3a368484e1d8d71', 'id': 9856}, {'name': 'Lee Smith', 'gender': 0, 'department': 'Editing', 'job': 'Editor', 'credit_id': '54805989c3a36829ae0022d8', 'id': 3904}, {'name': 'Bill Bernstein', 'gender': 2, 'department': 'Sound', 'job': 'Music Editor', 'credit_id': '5677df82c3a3681683008748', 'id': 7538}, {'name': 'Daniel Craig', 'gender': 2, 'department': 'Production', 'job': 'Co-Producer', 'credit_id': '5720e370c3a368117e00045b', 'id': 8784}, {'name': 'Jany Temime', 'gender': 1, 'department': 'Costume & Make-Up', 'job': 'Costume Design', 'credit_id': '5522fdd09251416d4a0024b6', 'id': 11227}, {'name': 'Debbie McWilliams', 'gender': 1, 'department': 'Production', 'job': 'Casting', 'credit_id': '5677cc9ac3a368167c0089b5', 'id': 10496}, {'name': 'Barbara Broccoli', 'gender': 1, 'department': 'Production', 'job': 'Producer', 'credit_id': '52fe4d22c3a368484e1d8d7d', 'id': 10666}, {'name': 'Roberto Malerba', 'gender': 0, 'department': 'Production', 'job': 'Line Producer', 'credit_id': '5720e3afc3a368117e00046a', 'id': 11268}, {'name': 'Peter Clarke', 'gender': 0, 'department': 'Sound', 'job': 'Music Editor', 'credit_id': '5677df58c3a368167c008c82', 'id': 40827}, {'name': 'Christopher Assells', 'gender': 0, 'department': 'Sound', 'job': 'Sound Designer', 'credit_id': '5677dd1ec3a36816890085d3', 'id': 14764}, {'name': 'Per Hallberg', 'gender': 0, 'department': 'Sound', 'job': 'Supervising Sound Editor', 'credit_id': '566046b9c3a36875f400323a', 'id': 14765}, {'name': 'Nicole Schmied', 'gender': 0, 'department': 'Production', 'job': 'Casting', 'credit_id': '5677ccab925141691a00530f', 'id': 36108}, {'name': 'Nicole Schmied', 'gender': 0, 'department': 'Production', 'job': 'Casting Associate', 'credit_id': '5677cfe4c3a36816850087d2', 'id': 36108}, {'name': 'Robert Wade', 'gender': 2, 'department': 'Writing', 'job': 'Screenplay', 'credit_id': '562fc984c3a3681b5400e16f', 'id': 10783}, {'name': 'Robert Wade', 'gender': 2, 'department': 'Writing', 'job': 'Story', 'credit_id': '562fc9cec3a3681b4b00d168', 'id': 10783}, {'name': 'Neal Purvis', 'gender': 0, 'department': 'Writing', 'job': 'Screenplay', 'credit_id': '562fc976c3a3681b5c00dd64', 'id': 10782}, {'name': 'Neal Purvis', 'gender': 0, 'department': 'Writing', 'job': 'Story', 'credit_id': '562fc9d79251414ad800c103', 'id': 10782}, {'name': 'Callum McDougall', 'gender': 2, 'department': 'Production', 'job': 'Executive Producer', 'credit_id': '5720e61d9251414235000477', 'id': 10876}, {'name': 'Jez Butterworth', 'gender': 2, 'department': 'Writing', 'job': 'Screenplay', 'credit_id': '562fc9a89251414ad800c0fe', 'id': 21339}, {'name': 'Chris Lowe', 'gender': 0, 'department': 'Art', 'job': 'Supervising Art Director', 'credit_id': '570bd7f2c3a36802a9000412', 'id': 23425}, {'name': 'Roxana Alexandru ', 'gender': 0, 'department': 'Art', 'job': 'Assistant Art Director', 'credit_id': '5677e45ac3a368168b0084fd', 'id': 23491}, {'name': 'Jo Grover', 'gender': 0, 'department': 'Crew', 'job': 'Makeup Effects', 'credit_id': '5677e29c925141691a00561c', 'id': 23774}, {'name': 'St\\\\u00e9phane Foenkinos', 'gender': 2, 'department': 'Production', 'job': 'Casting', 'credit_id': '5677cf8492514179d20088ae', 'id': 10907}, {'name': 'Lorenzo Senatore', 'gender': 2, 'department': 'Camera', 'job': 'Camera Operator', 'credit_id': '5677d7b192514179d20089c6', 'id': 61851}, {'name': 'Wolfgang Ramml', 'gender': 0, 'department': 'Production', 'job': 'Line Producer', 'credit_id': '5720e6f7925141423000046b', 'id': 64000}, {'name': 'J.A.C. Redford', 'gender': 2, 'department': 'Sound', 'job': 'Orchestrator', 'credit_id': '5677dfabc3a368168000899f', 'id': 66941}, {'name': 'Gregg Wilson', 'gender': 0, 'department': 'Production', 'job': 'Associate Producer', 'credit_id': '5720e72e92514142320007fc', 'id': 81517}, {'name': 'Michael G. Wilson', 'gender': 2, 'department': 'Production', 'job': 'Producer', 'credit_id': '52fe4d22c3a368484e1d8d83', 'id': 69678}, {'name': 'Zakaria Alaoui', 'gender': 0, 'department': 'Production', 'job': 'Line Producer', 'credit_id': '5720e325c3a368118100043e', 'id': 77511}, {'name': 'Hoyte van Hoytema', 'gender': 0, 'department': 'Camera', 'job': 'Director of Photography', 'credit_id': '548059799251416e7e00265c', 'id': 74401}, {'name': 'Franco Ragusa', 'gender': 0, 'department': 'Crew', 'job': 'Special Effects Coordinator', 'credit_id': '5677cef792514179db00904d', 'id': 239885}, {'name': 'Peter Field', 'gender': 0, 'department': 'Camera', 'job': 'Camera Operator', 'credit_id': '5677d7e992514179e7008654', 'id': 937946}, {'name': 'Neal Callow', 'gender': 2, 'department': 'Art', 'job': 'Art Direction', 'credit_id': '5677cd21c3a3681680008700', 'id': 979698}, {'name': 'Mark Harris', 'gender': 2, 'department': 'Art', 'job': 'Art Direction', 'credit_id': '5677cd5a92514179e30086fb', 'id': 986687}, {'name': 'Billy A. Campbell', 'gender': 0, 'department': 'Crew', 'job': 'Visual Effects Editor', 'credit_id': '5678090392514179e1009958', 'id': 1024842}, {'name': 'Stacy Perskie', 'gender': 0, 'department': 'Production', 'job': 'Co-Producer', 'credit_id': '5720e6749251414240000470', 'id': 1026247}, {'name': 'Laura Schultz', 'gender': 0, 'department': 'Visual Effects', 'job': 'Visual Effects Producer', 'credit_id': '56780a2292514179dd008d18', 'id': 1029804}, {'name': 'Mari Paz Robles', 'gender': 0, 'department': 'Costume & Make-Up', 'job': 'Key Hair Stylist', 'credit_id': '5677e174925141691a0055f1', 'id': 1087452}, {'name': 'Gerardo Perez Arreola', 'gender': 0, 'department': 'Costume & Make-Up', 'job': 'Hairstylist', 'credit_id': '5677e0cf9251417845001631', 'id': 1099281}, {'name': 'Kenji Katori', 'gender': 0, 'department': 'Camera', 'job': 'Camera Operator', 'credit_id': '5677d73b92514179dd008471', 'id': 1118711}, {'name': 'Ben Collins', 'gender': 0, 'department': 'Art', 'job': 'Art Direction', 'credit_id': '5677cd3a92514179d2008852', 'id': 1296445}, {'name': 'Tusse Lande', 'gender': 0, 'department': 'Production', 'job': 'Casting Associate', 'credit_id': '5677cfc3c3a3681680008755', 'id': 1305251}, {'name': 'Donald Mowat', 'gender': 0, 'department': 'Costume & Make-Up', 'job': 'Makeup Artist', 'credit_id': '5677e24f92514179e70087da', 'id': 1315700}, {'name': 'Ken Crouch', 'gender': 0, 'department': 'Costume & Make-Up', 'job': 'Costume Supervisor', 'credit_id': '5677d622c3a368167c008b25', 'id': 1319160}, {'name': 'Andrew Bennett', 'gender': 0, 'department': 'Art', 'job': 'Art Direction', 'credit_id': '5677cd0ec3a368168e008f75', 'id': 1335539}, {'name': 'Sean McGrath', 'gender': 0, 'department': 'Visual Effects', 'job': 'Visual Effects Coordinator', 'credit_id': '56780833925141691a005c2f', 'id': 1338241}, {'name': \"Dan O'Connell\", 'gender': 0, 'department': 'Sound', 'job': 'Foley', 'credit_id': '5677dcc7c3a36816830086cc', 'id': 1338372}, {'name': 'Mark Curtis', 'gender': 0, 'department': 'Visual Effects', 'job': 'Visual Effects Supervisor', 'credit_id': '56780ac692514179dd008d31', 'id': 1341741}, {'name': 'Gregg Rudloff', 'gender': 2, 'department': 'Sound', 'job': 'Sound Re-Recording Mixer', 'credit_id': '5677dd9fc3a368168b0083f0', 'id': 1341858}, {'name': 'Jayne-Ann Tenggren', 'gender': 0, 'department': 'Directing', 'job': 'Script Supervisor', 'credit_id': '566047029251412204002337', 'id': 1342669}, {'name': 'Jayne-Ann Tenggren', 'gender': 0, 'department': 'Production', 'job': 'Associate Producer', 'credit_id': '5720e713925141423000046d', 'id': 1342669}, {'name': 'Scott Millan', 'gender': 0, 'department': 'Sound', 'job': 'Sound Re-Recording Mixer', 'credit_id': '5677dd8792514179db009235', 'id': 1345595}, {'name': 'Nicoletta Mani', 'gender': 0, 'department': 'Directing', 'job': 'Script Supervisor', 'credit_id': '5677def192514179e700875b', 'id': 1358025}, {'name': 'John T. Cucci', 'gender': 0, 'department': 'Sound', 'job': 'Foley', 'credit_id': '5677dcb0925141691a00552a', 'id': 1367493}, {'name': 'Sebastian Meuschel', 'gender': 0, 'department': 'Camera', 'job': 'Camera Operator', 'credit_id': '5677d7ff92514179e300884b', 'id': 1377503}, {'name': 'Julian Morson', 'gender': 2, 'department': 'Camera', 'job': 'Steadicam Operator', 'credit_id': '5677d94192514179d20089ff', 'id': 1388897}, {'name': 'Peter Michael Sullivan', 'gender': 0, 'department': 'Sound', 'job': 'Foley', 'credit_id': '5677dce5c3a36816830086d3', 'id': 1389614}, {'name': 'Ken Dailey', 'gender': 0, 'department': 'Visual Effects', 'job': 'Visual Effects Producer', 'credit_id': '56780a5a92514179e300908d', 'id': 1391691}, {'name': 'Ann Scibelli', 'gender': 0, 'department': 'Sound', 'job': 'Sound Designer', 'credit_id': '5677dd38c3a368167c008c21', 'id': 1392083}, {'name': 'Clive Jackson', 'gender': 0, 'department': 'Camera', 'job': 'Camera Operator', 'credit_id': '5677d7cd92514179db009178', 'id': 1392246}, {'name': 'Susie Jones', 'gender': 0, 'department': 'Directing', 'job': 'Script Supervisor', 'credit_id': '5677de6192514179dd008566', 'id': 1392661}, {'name': 'Jasin Boland', 'gender': 2, 'department': 'Camera', 'job': 'Still Photographer', 'credit_id': '5677d98fc3a3681685008904', 'id': 1392718}, {'name': 'Jennifer Lewicki', 'gender': 0, 'department': 'Art', 'job': 'Art Department Coordinator', 'credit_id': '5677cdd8c3a368168b0081e1', 'id': 1394117}, {'name': 'Ian Whiteford', 'gender': 0, 'department': 'Art', 'job': 'Greensman', 'credit_id': '5677e58cc3a3681685008adb', 'id': 1398089}, {'name': 'Kilou Picard', 'gender': 0, 'department': 'Visual Effects', 'job': 'Visual Effects Producer', 'credit_id': '56780a7592514179db0099c4', 'id': 1398100}, {'name': 'Hans Bjerno', 'gender': 0, 'department': 'Camera', 'job': 'Helicopter Camera', 'credit_id': '5677d8ba92514179d20089f0', 'id': 1399071}, {'name': 'Daniel Saxlid', 'gender': 2, 'department': 'Editing', 'job': 'Dialogue Editor', 'credit_id': '5677dd02c3a368167a0091a2', 'id': 1399862}, {'name': 'Alex Rouse', 'gender': 0, 'department': 'Costume & Make-Up', 'job': 'Wigmaker', 'credit_id': '5677e2e1c3a368167c008d1a', 'id': 1401126}, {'name': 'Anik Seguin', 'gender': 0, 'department': 'Crew', 'job': 'Visual Effects Editor', 'credit_id': '5678096bc3a368167c0093d2', 'id': 1401147}, {'name': 'Michelle Pazer', 'gender': 0, 'department': 'Sound', 'job': 'ADR & Dubbing', 'credit_id': '5677dc90c3a368167a009190', 'id': 1401631}, {'name': 'Lucas Bielan', 'gender': 2, 'department': 'Camera', 'job': 'Camera Operator', 'credit_id': '5677d75ac3a368167a0090e9', 'id': 1403411}, {'name': 'Karen Baker Landers', 'gender': 0, 'department': 'Sound', 'job': 'Supervising Sound Editor', 'credit_id': '566046d7c3a36875e900359d', 'id': 1404212}, {'name': 'Peter Staubli', 'gender': 0, 'department': 'Sound', 'job': 'Sound Designer', 'credit_id': '5677dd519251417845001588', 'id': 1404217}, {'name': 'John Marzano', 'gender': 0, 'department': 'Camera', 'job': 'Helicopter Camera', 'credit_id': '5677d8d192514179e1009100', 'id': 1404244}, {'name': 'Adam Dale', 'gender': 0, 'department': 'Camera', 'job': 'Helicopter Camera', 'credit_id': '5677d927c3a36816850088f2', 'id': 1405241}, {'name': 'Emma McCleave', 'gender': 0, 'department': 'Editing', 'job': 'First Assistant Editor', 'credit_id': '5677dff292514179e100921a', 'id': 1408363}, {'name': 'Naomi Donne', 'gender': 0, 'department': 'Costume & Make-Up', 'job': 'Makeup Designer', 'credit_id': '5677e191925141784500164f', 'id': 1409821}, {'name': 'Susan Howard', 'gender': 0, 'department': 'Crew', 'job': 'Makeup Effects', 'credit_id': '5677e2b5c3a368168e0092aa', 'id': 1411323}, {'name': 'David Smith', 'gender': 0, 'department': 'Lighting', 'job': 'Gaffer', 'credit_id': '5677d869c3a36816850088e3', 'id': 1414096}, {'name': 'Joel Green', 'gender': 0, 'department': 'Crew', 'job': 'CG Supervisor', 'credit_id': '56780712c3a368168b008ace', 'id': 1415157}, {'name': 'Laurent Hugueniot', 'gender': 0, 'department': 'Crew', 'job': 'CG Supervisor', 'credit_id': '567806ba92514179e10098ee', 'id': 1425484}, {'name': 'Tim Keene', 'gender': 0, 'department': 'Visual Effects', 'job': 'Visual Effects Producer', 'credit_id': '56780a92c3a36816850090af', 'id': 1425488}, {'name': 'Zoe Tahir', 'gender': 0, 'department': 'Costume & Make-Up', 'job': 'Hair Designer', 'credit_id': '5677e087c3a368167a00922b', 'id': 1425971}, {'name': 'Conor Byrne', 'gender': 0, 'department': 'Crew', 'job': 'Visual Effects Editor', 'credit_id': '567808eb92514179e300904a', 'id': 1428902}, {'name': 'Charlotte Hayward', 'gender': 0, 'department': 'Costume & Make-Up', 'job': 'Makeup Artist', 'credit_id': '5677e22d925141691a00560d', 'id': 1439128}, {'name': 'Catherine Mullan', 'gender': 0, 'department': 'Visual Effects', 'job': 'Animation Supervisor', 'credit_id': '5677cf3fc3a36816850087c1', 'id': 1442137}, {'name': 'Crystal Hadcroft', 'gender': 0, 'department': 'Crew', 'job': 'Visual Effects Editor', 'credit_id': '56780988c3a3681683008e99', 'id': 1447617}, {'name': 'Francesca Crowder', 'gender': 0, 'department': 'Costume & Make-Up', 'job': 'Hairstylist', 'credit_id': '5677e0ec925141691a0055d6', 'id': 1458416}, {'name': 'Marlene Chazot', 'gender': 0, 'department': 'Visual Effects', 'job': 'Animation Director', 'credit_id': '5677cf2892514179dd008356', 'id': 1459878}, {'name': 'Struan Farquhar', 'gender': 0, 'department': 'Crew', 'job': 'Visual Effects Editor', 'credit_id': '5678091d92514179db009985', 'id': 1459899}, {'name': 'Daniel Pastore', 'gender': 0, 'department': 'Crew', 'job': 'CG Supervisor', 'credit_id': '56780731c3a3681680009013', 'id': 1459925}, {'name': 'Jonathan Olley', 'gender': 0, 'department': 'Camera', 'job': 'Still Photographer', 'credit_id': '5677d969c3a368168b00834a', 'id': 1470167}, {'name': 'Sami Gaidi', 'gender': 0, 'department': 'Art', 'job': 'Assistant Art Director', 'credit_id': '5677e48dc3a368167a0092c8', 'id': 1472773}, {'name': 'Luca Marco Paracels', 'gender': 2, 'department': 'Production', 'job': 'Co-Producer', 'credit_id': '5751eed59251416b60000637', 'id': 1477203}, {'name': 'Luca Vannella', 'gender': 0, 'department': 'Costume & Make-Up', 'job': 'Key Hair Stylist', 'credit_id': '5677e157c3a36816800089ee', 'id': 1480629}, {'name': 'Stuart Bullen', 'gender': 0, 'department': 'Visual Effects', 'job': 'Visual Effects Supervisor', 'credit_id': '56780b0e925141691a005c8f', 'id': 1483141}, {'name': 'Russell Edwards', 'gender': 0, 'department': 'Sound', 'job': 'Sound Effects Editor', 'credit_id': '582f29fa925141022e003a74', 'id': 1494824}, {'name': 'Stefano De Nardis', 'gender': 0, 'department': 'Costume & Make-Up', 'job': 'Costume Supervisor', 'credit_id': '5677d63dc3a368167a0090b4', 'id': 1510431}, {'name': 'Luis David Sansans', 'gender': 0, 'department': 'Camera', 'job': 'Camera Operator', 'credit_id': '5677d79992514179d20089c2', 'id': 1512767}, {'name': 'Abderrahim Benkhayi', 'gender': 0, 'department': 'Costume & Make-Up', 'job': 'Costume Supervisor', 'credit_id': '5677d609c3a368168000881a', 'id': 1545912}, {'name': 'Rachid Aadassi', 'gender': 0, 'department': 'Costume & Make-Up', 'job': 'Set Costumer', 'credit_id': '5677d66cc3a368167a0090be', 'id': 1545913}, {'name': 'Carlos De Carvalho', 'gender': 0, 'department': 'Camera', 'job': 'Additional Camera', 'credit_id': '5677da26c3a368167a009139', 'id': 1545995}, {'name': 'Vivienne Jones', 'gender': 0, 'department': 'Costume & Make-Up', 'job': 'Assistant Costume Designer', 'credit_id': '5677d5bec3a368167c008b13', 'id': 1546747}, {'name': 'Kim Honeyman', 'gender': 0, 'department': 'Editing', 'job': 'Digital Intermediate', 'credit_id': '5677dfcac3a368168300875b', 'id': 1548406}, {'name': 'Kathryn Fa', 'gender': 0, 'department': 'Costume & Make-Up', 'job': 'Hairstylist', 'credit_id': '5677e105c3a368168b00846d', 'id': 1550637}, {'name': 'Paul Duff', 'gender': 0, 'department': 'Crew', 'job': 'Carpenter', 'credit_id': '5677ce0c9251417845001384', 'id': 1551770}, {'name': 'Ben Wilkinson', 'gender': 0, 'department': 'Crew', 'job': 'Property Master', 'credit_id': '5677ce5192514179e300871b', 'id': 1551771}, {'name': 'Lynne Corbould', 'gender': 0, 'department': 'Crew', 'job': 'Special Effects Coordinator', 'credit_id': '5677cec292514179dd00834d', 'id': 1551772}, {'name': 'Amal El-Farfachi', 'gender': 0, 'department': 'Production', 'job': 'Casting', 'credit_id': '5677cf57c3a368168e008fcc', 'id': 1551773}, {'name': 'Celebrity Booker', 'gender': 0, 'department': 'Production', 'job': 'Casting Associate', 'credit_id': '5677cf99c3a368168b00821d', 'id': 1551774}, {'name': 'Lucy Hellier', 'gender': 0, 'department': 'Production', 'job': 'Casting Associate', 'credit_id': '5677cfadc3a368167c008a30', 'id': 1551775}, {'name': 'Richard Davies', 'gender': 0, 'department': 'Costume & Make-Up', 'job': 'Assistant Costume Designer', 'credit_id': '5677d5a392514179db00911d', 'id': 1551777}, {'name': 'Ando Johnson', 'gender': 0, 'department': 'Sound', 'job': 'Sound Effects Editor', 'credit_id': '5677dd6bc3a368168b0083e2', 'id': 1551789}, {'name': 'Greg Corke', 'gender': 0, 'department': 'Crew', 'job': 'Armorer', 'credit_id': '5677de2dc3a3681683008713', 'id': 1551791}, {'name': 'Amin Rharda', 'gender': 0, 'department': 'Production', 'job': 'Researcher', 'credit_id': '5677de8a92514179e10091d9', 'id': 1551796}, {'name': 'Joss Skottowe', 'gender': 0, 'department': 'Crew', 'job': 'Armorer', 'credit_id': '5677dea9c3a368168e00921c', 'id': 1551797}, {'name': 'Joseph Koniak', 'gender': 0, 'department': 'Costume & Make-Up', 'job': 'Hairstylist', 'credit_id': '5677e11c92514179dd0085e3', 'id': 1551798}, {'name': 'Thal\\\\u00eda Echeveste', 'gender': 0, 'department': 'Costume & Make-Up', 'job': 'Makeup Artist', 'credit_id': '5677e1b19251417845001657', 'id': 1551800}, {'name': 'Charlie Hounslow', 'gender': 0, 'department': 'Costume & Make-Up', 'job': 'Makeup Artist', 'credit_id': '5677e1c7c3a368167c008cd8', 'id': 1551801}, {'name': 'Lucy Friend', 'gender': 0, 'department': 'Costume & Make-Up', 'job': 'Makeup Artist', 'credit_id': '5677e1e592514179d2008b7b', 'id': 1551802}, {'name': 'Yelska Labrada', 'gender': 0, 'department': 'Costume & Make-Up', 'job': 'Makeup Artist', 'credit_id': '5677e1fa92514179e1009265', 'id': 1551803}, {'name': 'Ana Gabriela Quinonez', 'gender': 0, 'department': 'Costume & Make-Up', 'job': 'Makeup Artist', 'credit_id': '5677e20fc3a36816830087d9', 'id': 1551804}, {'name': 'Gina De Ferrer', 'gender': 0, 'department': 'Production', 'job': 'Researcher', 'credit_id': '5677e32d9251417845001683', 'id': 1551807}, {'name': 'Lydia Fry', 'gender': 0, 'department': 'Art', 'job': 'Assistant Art Director', 'credit_id': '5677e47592514179e10092dd', 'id': 1551809}, {'name': 'Liam Georgensen', 'gender': 0, 'department': 'Art', 'job': 'Assistant Art Director', 'credit_id': '5677e4a492514179db009373', 'id': 1551810}, {'name': 'Hugh McClelland', 'gender': 0, 'department': 'Art', 'job': 'Assistant Art Director', 'credit_id': '5677e4bb92514179dd00868a', 'id': 1551811}, {'name': 'John Allen', 'gender': 0, 'department': 'Crew', 'job': 'Carpenter', 'credit_id': '5677e53092514179db00938e', 'id': 1551812}, {'name': 'Eddie Murphy', 'gender': 0, 'department': 'Crew', 'job': 'Carpenter', 'credit_id': '5677e547c3a368167a0092ef', 'id': 1551813}, {'name': 'Carlos-Christian Nickel', 'gender': 0, 'department': 'Crew', 'job': 'CG Supervisor', 'credit_id': '567806e092514179dd008c84', 'id': 1551872}, {'name': 'Chris Petts', 'gender': 0, 'department': 'Crew', 'job': 'CG Supervisor', 'credit_id': '567806f7c3a368167a0098d7', 'id': 1551874}, {'name': 'Hugh Brompton', 'gender': 0, 'department': 'Visual Effects', 'job': 'Visual Effects Coordinator', 'credit_id': '567807b7c3a368167a0098f0', 'id': 1551892}, {'name': 'Jillian Brooks', 'gender': 0, 'department': 'Visual Effects', 'job': 'Visual Effects Coordinator', 'credit_id': '567807d1c3a3681680009022', 'id': 1551893}, {'name': 'Geraint Hixson', 'gender': 0, 'department': 'Visual Effects', 'job': 'Visual Effects Coordinator', 'credit_id': '567807eb92514179db00995e', 'id': 1551894}, {'name': 'Shawn Smolensky', 'gender': 0, 'department': 'Visual Effects', 'job': 'Visual Effects Coordinator', 'credit_id': '5678084f92514179d2009226', 'id': 1551896}, {'name': 'Todd Whalen', 'gender': 0, 'department': 'Visual Effects', 'job': 'Visual Effects Coordinator', 'credit_id': '5678086992514179db00996d', 'id': 1551897}, {'name': 'Alysia Wildman', 'gender': 0, 'department': 'Visual Effects', 'job': 'Visual Effects Coordinator', 'credit_id': '56780884c3a3681689008d28', 'id': 1551898}, {'name': 'Sam Girdler', 'gender': 0, 'department': 'Visual Effects', 'job': 'Visual Effects Coordinator', 'credit_id': '567808a0c3a368167c0093a1', 'id': 1551899}, {'name': 'Samantha Dark', 'gender': 0, 'department': 'Visual Effects', 'job': 'Visual Effects Coordinator', 'credit_id': '567808cdc3a3681685009073', 'id': 1551902}, {'name': 'Ty Gibson', 'gender': 0, 'department': 'Crew', 'job': 'Visual Effects Editor', 'credit_id': '567809519251417845001d1a', 'id': 1551904}, {'name': 'James Mann', 'gender': 0, 'department': 'Crew', 'job': 'Visual Effects Editor', 'credit_id': '567809bfc3a368167c0093e7', 'id': 1551906}, {'name': 'Leslie Lerman', 'gender': 0, 'department': 'Visual Effects', 'job': 'Visual Effects Producer', 'credit_id': '567809e392514179dd008d0c', 'id': 1551907}, {'name': 'Steven Begg', 'gender': 0, 'department': 'Visual Effects', 'job': 'Visual Effects Supervisor', 'credit_id': '56780aef92514179d2009276', 'id': 1551908}, {'name': 'Zave Jackson', 'gender': 0, 'department': 'Visual Effects', 'job': 'Visual Effects Supervisor', 'credit_id': '56780b249251417845001d4a', 'id': 1551909}, {'name': 'Jonathan Knight', 'gender': 2, 'department': 'Visual Effects', 'job': 'Visual Effects Supervisor', 'credit_id': '56780b4e9251417845001d57', 'id': 1551910}, {'name': 'Alex Wuttke', 'gender': 0, 'department': 'Visual Effects', 'job': 'Visual Effects Supervisor', 'credit_id': '56780bb692514179d2009291', 'id': 1551911}, {'name': 'Mark Bakowski', 'gender': 0, 'department': 'Visual Effects', 'job': 'Visual Effects Supervisor', 'credit_id': '56780c5a92514179e7008f22', 'id': 1551913}, {'name': 'Paul Round', 'gender': 0, 'department': 'Visual Effects', 'job': 'Visual Effects Supervisor', 'credit_id': '56780c8292514179e30090d1', 'id': 1551914}, {'name': 'Stefano Marino', 'gender': 0, 'department': 'Lighting', 'job': 'Gaffer', 'credit_id': '56cd782ac3a368275b001cae', 'id': 1553236}, {'name': 'Hanz Kawson', 'gender': 0, 'department': 'Lighting', 'job': 'Gaffer', 'credit_id': '56cd7899c3a3682759001bfd', 'id': 1582109}]",
         "Sam Mendes"
        ],
        [
         "3",
         "3",
         "250000000",
         "Action Crime Drama Thriller",
         "http://www.thedarkknightrises.com/",
         "49026",
         "dc comics crime fighter terrorist secret identity burglar",
         "en",
         "The Dark Knight Rises",
         "Following the death of District Attorney Harvey Dent, Batman assumes responsibility for Dent's crimes to protect the late attorney's reputation and is subsequently hunted by the Gotham City Police Department. Eight years later, Batman encounters the mysterious Selina Kyle and the villainous Bane, a new terrorist leader who overwhelms Gotham's finest. The Dark Knight resurfaces to protect a city that has branded him an enemy.",
         "112.31295",
         "[{\"name\": \"Legendary Pictures\", \"id\": 923}, {\"name\": \"Warner Bros.\", \"id\": 6194}, {\"name\": \"DC Entertainment\", \"id\": 9993}, {\"name\": \"Syncopy\", \"id\": 9996}]",
         "[{\"iso_3166_1\": \"US\", \"name\": \"United States of America\"}]",
         "2012-07-16",
         "1084939099",
         "165.0",
         "[{\"iso_639_1\": \"en\", \"name\": \"English\"}]",
         "Released",
         "The Legend Ends",
         "The Dark Knight Rises",
         "7.6",
         "9106",
         "Christian Bale Michael Caine Gary Oldman Anne Hathaway Tom Hardy",
         "[{'name': 'Hans Zimmer', 'gender': 2, 'department': 'Sound', 'job': 'Original Music Composer', 'credit_id': '52fe4781c3a36847f81398c3', 'id': 947}, {'name': 'Charles Roven', 'gender': 0, 'department': 'Production', 'job': 'Producer', 'credit_id': '52fe4781c3a36847f8139899', 'id': 282}, {'name': 'Christopher Nolan', 'gender': 2, 'department': 'Writing', 'job': 'Screenplay', 'credit_id': '52fe4781c3a36847f813991b', 'id': 525}, {'name': 'Christopher Nolan', 'gender': 2, 'department': 'Directing', 'job': 'Director', 'credit_id': '52fe4781c3a36847f8139865', 'id': 525}, {'name': 'Christopher Nolan', 'gender': 2, 'department': 'Production', 'job': 'Producer', 'credit_id': '52fe4781c3a36847f8139893', 'id': 525}, {'name': 'Christopher Nolan', 'gender': 2, 'department': 'Writing', 'job': 'Story', 'credit_id': '52fe4781c3a36847f8139915', 'id': 525}, {'name': 'Jonathan Nolan', 'gender': 2, 'department': 'Writing', 'job': 'Screenplay', 'credit_id': '52fe4781c3a36847f813990f', 'id': 527}, {'name': 'Emma Thomas', 'gender': 1, 'department': 'Production', 'job': 'Producer', 'credit_id': '52fe4781c3a36847f813989f', 'id': 556}, {'name': 'Wally Pfister', 'gender': 2, 'department': 'Camera', 'job': 'Director of Photography', 'credit_id': '52fe4781c3a36847f81398c9', 'id': 559}, {'name': 'Wally Pfister', 'gender': 2, 'department': 'Camera', 'job': 'Camera Operator', 'credit_id': '54c37788c3a3681421011a07', 'id': 559}, {'name': 'John Papsidera', 'gender': 0, 'department': 'Production', 'job': 'Casting', 'credit_id': '52fe4781c3a36847f81398d5', 'id': 561}, {'name': 'David S. Goyer', 'gender': 2, 'department': 'Writing', 'job': 'Story', 'credit_id': '52fe4781c3a36847f8139921', 'id': 3893}, {'name': 'Bob Kane', 'gender': 2, 'department': 'Writing', 'job': 'Characters', 'credit_id': '52fe4781c3a36847f81398a5', 'id': 3794}, {'name': 'Lee Smith', 'gender': 0, 'department': 'Editing', 'job': 'Editor', 'credit_id': '52fe4781c3a36847f81398cf', 'id': 3904}, {'name': 'Michael Uslan', 'gender': 2, 'department': 'Production', 'job': 'Executive Producer', 'credit_id': '52fe4781c3a36847f81398bd', 'id': 10949}, {'name': 'Benjamin Melniker', 'gender': 2, 'department': 'Production', 'job': 'Executive Producer', 'credit_id': '52fe4781c3a36847f81398b1', 'id': 10951}, {'name': 'Jim Palmer', 'gender': 2, 'department': 'Crew', 'job': 'Stunts', 'credit_id': '564e1be99251414af7000269', 'id': 9568}, {'name': 'Karen Blynder', 'gender': 0, 'department': 'Costume & Make-Up', 'job': 'Makeup Artist', 'credit_id': '54c224cec3a368792c00322f', 'id': 9991}, {'name': 'Lindy Hemming', 'gender': 1, 'department': 'Costume & Make-Up', 'job': 'Costume Design', 'credit_id': '52fe4781c3a36847f81398f9', 'id': 10714}, {'name': 'Paki Smith', 'gender': 0, 'department': 'Art', 'job': 'Set Decoration', 'credit_id': '52fe4781c3a36847f81398f3', 'id': 12039}, {'name': 'Robert Woodruff', 'gender': 2, 'department': 'Art', 'job': 'Art Direction', 'credit_id': '52fe4781c3a36847f8139905', 'id': 14762}, {'name': 'Nathan Crowley', 'gender': 2, 'department': 'Art', 'job': 'Production Design', 'credit_id': '52fe4781c3a36847f81398e1', 'id': 15327}, {'name': 'Kevin Kavanaugh', 'gender': 0, 'department': 'Art', 'job': 'Production Design', 'credit_id': '52fe4781c3a36847f81398e7', 'id': 15328}, {'name': 'Naaman Marshall', 'gender': 0, 'department': 'Art', 'job': 'Supervising Art Director', 'credit_id': '570b91d29251415248001736', 'id': 17677}, {'name': 'Timothy Healy', 'gender': 0, 'department': 'Lighting', 'job': 'Electrician', 'credit_id': '57c4678f92514105db0046d4', 'id': 35630}, {'name': \"Brian 'Buzz' Buzzelli\", 'gender': 0, 'department': 'Lighting', 'job': 'Rigging Grip', 'credit_id': '5745d36e92514129a0002e7c', 'id': 40120}, {'name': 'R.J. Kizer', 'gender': 2, 'department': 'Sound', 'job': 'ADR & Dubbing', 'credit_id': '54c2732b9251416eae00cab6', 'id': 52193}, {'name': 'Thomas Tull', 'gender': 0, 'department': 'Production', 'job': 'Executive Producer', 'credit_id': '52fe4781c3a36847f81398b7', 'id': 54211}, {'name': 'Lee Sheward', 'gender': 2, 'department': 'Crew', 'job': 'Stunts', 'credit_id': '56aa55a092514159a5001cf3', 'id': 57569}, {'name': 'Declan Mulvey', 'gender': 0, 'department': 'Crew', 'job': 'Stunts', 'credit_id': '56817f919251417def0118c9', 'id': 61329}, {'name': 'Gerald Sullivan', 'gender': 0, 'department': 'Art', 'job': 'Art Direction', 'credit_id': '52fe4781c3a36847f81398ff', 'id': 62560}, {'name': 'Zack Grobler', 'gender': 0, 'department': 'Art', 'job': 'Art Direction', 'credit_id': '54c2234d925141315a005b6b', 'id': 31172}, {'name': 'Kevin Kaska', 'gender': 0, 'department': 'Sound', 'job': 'Orchestrator', 'credit_id': '579d0191c3a36828b100130b', 'id': 68016}, {'name': 'Rick Avery', 'gender': 2, 'department': 'Crew', 'job': 'Stunts', 'credit_id': '56d9d2c9925141340201f6ed', 'id': 81687}, {'name': 'Kevin De La Noy', 'gender': 2, 'department': 'Production', 'job': 'Executive Producer', 'credit_id': '52fe4781c3a36847f81398ab', 'id': 75804}, {'name': 'Jordan Goldberg', 'gender': 0, 'department': 'Production', 'job': 'Co-Producer', 'credit_id': '5766cb129251411323000031', 'id': 113913}, {'name': 'Karl McMillan', 'gender': 0, 'department': 'Production', 'job': 'Production Manager', 'credit_id': '54c227c2c3a3686c61012820', 'id': 114017}, {'name': 'May Leung', 'gender': 0, 'department': 'Visual Effects', 'job': 'VFX Supervisor', 'credit_id': '54c375f6c3a36833380010e1', 'id': 92231}, {'name': 'Philippe Vonlanthen', 'gender': 2, 'department': 'Crew', 'job': 'Stunts', 'credit_id': '56c605c9c3a3680d4e003645', 'id': 122549}, {'name': 'Gary Rizzo', 'gender': 0, 'department': 'Sound', 'job': 'Sound Re-Recording Mixer', 'credit_id': '54c274859251416e6000d4ee', 'id': 138618}, {'name': 'Doug Coleman', 'gender': 0, 'department': 'Crew', 'job': 'Stunts', 'credit_id': '56e76ae3c3a368408c000be7', 'id': 142157}, {'name': 'Anthony Molinari', 'gender': 2, 'department': 'Crew', 'job': 'Stunts', 'credit_id': '579794d19251411a9000004d', 'id': 202930}, {'name': 'Christopher Place', 'gender': 0, 'department': 'Crew', 'job': 'Stunts', 'credit_id': '568181699251411334008948', 'id': 204339}, {'name': 'Barbara Harris', 'gender': 0, 'department': 'Sound', 'job': 'ADR & Dubbing', 'credit_id': '56a7b806c3a36828b800190b', 'id': 230436}, {'name': \"Carrick O'Quinn\", 'gender': 0, 'department': 'Crew', 'job': 'Stunts', 'credit_id': '564e1b75c3a368070f000288', 'id': 550900}, {'name': 'Bruce Fowler', 'gender': 2, 'department': 'Sound', 'job': 'Orchestrator', 'credit_id': '57531069c3a3684c100007ef', 'id': 932186}, {'name': 'Roy T. Anderson', 'gender': 2, 'department': 'Crew', 'job': 'Stunts', 'credit_id': '568035f3c3a3684bcc00e7b2', 'id': 932748}, {'name': 'Dean Wolcott', 'gender': 2, 'department': 'Art', 'job': 'Art Direction', 'credit_id': '54c2239fc3a36879290038ba', 'id': 969743}, {'name': 'Toby Whale', 'gender': 0, 'department': 'Production', 'job': 'Casting', 'credit_id': '52fe4781c3a36847f81398db', 'id': 1018958}, {'name': 'Jim Wilkey', 'gender': 2, 'department': 'Crew', 'job': 'Stunts', 'credit_id': '56a189729251415e5e00fd3b', 'id': 1025090}, {'name': 'James Hambidge', 'gender': 0, 'department': 'Art', 'job': 'Supervising Art Director', 'credit_id': '570b91c3c3a3684f41003b4c', 'id': 1034754}, {'name': 'Aaron Vexler', 'gender': 0, 'department': 'Crew', 'job': 'Stunts', 'credit_id': '568183ab9251414f6300a6f8', 'id': 1045964}, {'name': 'Carmia Marshall', 'gender': 0, 'department': 'Costume & Make-Up', 'job': 'Set Costumer', 'credit_id': '54c37a699251412446005572', 'id': 1046614}, {'name': 'Hugo Weng', 'gender': 0, 'department': 'Editing', 'job': 'Dialogue Editor', 'credit_id': '54c2737bc3a368792c003905', 'id': 1050930}, {'name': 'Adam Horton', 'gender': 0, 'department': 'Crew', 'job': 'Stunts', 'credit_id': '57a29134c3a36832b8001afb', 'id': 1061061}, {'name': 'Raymond Mamrak', 'gender': 0, 'department': 'Crew', 'job': 'Stunts', 'credit_id': '56aba40e9251410e8f002cf7', 'id': 1106629}, {'name': 'John Roesch', 'gender': 2, 'department': 'Sound', 'job': 'Foley', 'credit_id': '54c27360925141315a0062e4', 'id': 1116937}, {'name': 'Mike Chambers', 'gender': 0, 'department': 'Visual Effects', 'job': 'Visual Effects Producer', 'credit_id': '54c3717792514124c8005220', 'id': 1155668}, {'name': 'Emmanuel Pappas', 'gender': 0, 'department': 'Production', 'job': 'Production Manager', 'credit_id': '54c226f2c3a368792c003267', 'id': 1270053}, {'name': 'Stephen W. Schriver', 'gender': 0, 'department': 'Crew', 'job': 'Stunts', 'credit_id': '568186c0c3a36828f5006e04', 'id': 1301652}, {'name': 'Linda Matthews', 'gender': 0, 'department': 'Costume & Make-Up', 'job': 'Costume Supervisor', 'credit_id': '54c379b4c3a3687c4000fcd6', 'id': 1319744}, {'name': 'Luisa Abel', 'gender': 0, 'department': 'Costume & Make-Up', 'job': 'Makeup Department Head', 'credit_id': '54c2248cc3a36878fb003164', 'id': 1322015}, {'name': 'Sue Whitaker', 'gender': 0, 'department': 'Art', 'job': 'Art Direction', 'credit_id': '54c2238192514124890035aa', 'id': 1327144}, {'name': 'Samantha MacIvor', 'gender': 1, 'department': 'Crew', 'job': 'Stunts', 'credit_id': '56817e2192514113340088e0', 'id': 1329415}, {'name': 'Jared Burke', 'gender': 0, 'department': 'Crew', 'job': 'Stunts', 'credit_id': '56817898c3a3684bcc011ff7', 'id': 1329527}, {'name': 'Laura Downing', 'gender': 0, 'department': 'Costume & Make-Up', 'job': 'Costume Supervisor', 'credit_id': '54c3796cc3a36878d00059fb', 'id': 1336192}, {'name': 'Rebecca Levin', 'gender': 0, 'department': 'Costume & Make-Up', 'job': 'Set Costumer', 'credit_id': '54c37a9292514124c800531e', 'id': 1336193}, {'name': 'Ray Siegle', 'gender': 0, 'department': 'Crew', 'job': 'Stunts', 'credit_id': '5796b492c3a3680cfa002ae3', 'id': 1340941}, {'name': 'Richard King', 'gender': 2, 'department': 'Sound', 'job': 'Sound Designer', 'credit_id': '54c273cf92514124ed003c05', 'id': 1341403}, {'name': 'Richard King', 'gender': 2, 'department': 'Sound', 'job': 'Supervising Sound Editor', 'credit_id': '54c2739dc3a368792c003908', 'id': 1341403}, {'name': 'Bryan O. Watkins', 'gender': 0, 'department': 'Sound', 'job': 'Sound Effects Editor', 'credit_id': '54c27458c3a36878fb003835', 'id': 1341786}, {'name': 'Bradley Porter', 'gender': 0, 'department': 'Crew', 'job': 'Production Office Assistant', 'credit_id': '54e4a102c3a368087b005200', 'id': 1348686}, {'name': 'Cuitlahuac Morales Velazquez', 'gender': 0, 'department': 'Art', 'job': 'Sculptor', 'credit_id': '54c22e3d92514124c8003387', 'id': 1355530}, {'name': 'Scott R. Fisher', 'gender': 0, 'department': 'Crew', 'job': 'Special Effects Coordinator', 'credit_id': '54c27591c3a36879290040e9', 'id': 1357062}, {'name': 'Greg Baldi', 'gender': 0, 'department': 'Camera', 'job': 'Camera Operator', 'credit_id': '54c376f492514124460054fe', 'id': 1357064}, {'name': 'P. Scott Sakamoto', 'gender': 0, 'department': 'Camera', 'job': 'Camera Operator', 'credit_id': '54c37756c3a3683338001106', 'id': 1357066}, {'name': 'Denny Caira', 'gender': 0, 'department': 'Crew', 'job': 'Transportation Coordinator', 'credit_id': '54c37c5692514124c8005349', 'id': 1357070}, {'name': 'Trampas Thompson', 'gender': 2, 'department': 'Crew', 'job': 'Stunts', 'credit_id': '5681830ec3a3684be9010b3b', 'id': 1358564}, {'name': 'Steve Gehrke', 'gender': 2, 'department': 'Directing', 'job': 'Script Supervisor', 'credit_id': '54c37cdc92514124460055a5', 'id': 1367508}, {'name': 'Derrick Mitchell', 'gender': 0, 'department': 'Crew', 'job': 'Visual Effects Editor', 'credit_id': '54c37345c3a36833380010a6', 'id': 1372882}, {'name': 'Michael W. Mitchell', 'gender': 0, 'department': 'Sound', 'job': 'Sound Effects Editor', 'credit_id': '54c27414c3a368792c003910', 'id': 1377222}, {'name': 'Joe Ondrejko', 'gender': 0, 'department': 'Art', 'job': 'Construction Coordinator', 'credit_id': '54c22a06c3a368792c0032a2', 'id': 1378222}, {'name': 'Ken J. Johnson', 'gender': 0, 'department': 'Sound', 'job': 'Sound Effects Editor', 'credit_id': '567607a192514179e3003fd2', 'id': 1378231}, {'name': 'Lori Harris', 'gender': 0, 'department': 'Costume & Make-Up', 'job': 'Set Costumer', 'credit_id': '54c37b21c3a368789b0059cb', 'id': 1378246}, {'name': 'Francie Brown', 'gender': 0, 'department': 'Crew', 'job': 'Dialect Coach', 'credit_id': '54c37e8cc3a3681421011a9c', 'id': 1378726}, {'name': 'Trevor Habberstad', 'gender': 0, 'department': 'Crew', 'job': 'Stunts', 'credit_id': '568185c592514132db00f267', 'id': 1384390}, {'name': 'Amanda Pettett', 'gender': 0, 'department': 'Art', 'job': 'Construction Coordinator', 'credit_id': '54c22976925141315a005be2', 'id': 1389526}, {'name': 'Hana Rausalova', 'gender': 0, 'department': 'Costume & Make-Up', 'job': 'Set Costumer', 'credit_id': '54c37a01c3a36878fb00500a', 'id': 1391648}, {'name': 'Tom Still', 'gender': 0, 'department': 'Art', 'job': 'Art Direction', 'credit_id': '54c2236fc3a36878fb003141', 'id': 1392587}, {'name': 'Jeff Brink', 'gender': 0, 'department': 'Crew', 'job': 'Special Effects Coordinator', 'credit_id': '54c2757792514124c80039d9', 'id': 1393387}, {'name': 'Paula Jack', 'gender': 0, 'department': 'Crew', 'job': 'Dialect Coach', 'credit_id': '54c37d0492514124460055a7', 'id': 1394050}, {'name': 'Alison Evans', 'gender': 0, 'department': 'Costume & Make-Up', 'job': 'Set Costumer', 'credit_id': '54c37b3cc3a368792c0050eb', 'id': 1395030}, {'name': 'Amanda Jenkins', 'gender': 0, 'department': 'Costume & Make-Up', 'job': 'Set Costumer', 'credit_id': '54c37ae1c3a3687929005bf1', 'id': 1395032}, {'name': 'Jenne Lee', 'gender': 0, 'department': 'Art', 'job': 'Art Department Coordinator', 'credit_id': '54c22849c3a368789b0037cf', 'id': 1395430}, {'name': 'Theodore Sharps', 'gender': 0, 'department': 'Art', 'job': 'Set Designer', 'credit_id': '54c22e1cc3a36878fb003228', 'id': 1395435}, {'name': 'Alyson Dee Moore', 'gender': 0, 'department': 'Sound', 'job': 'Foley', 'credit_id': '54c2734bc3a368789b003f6a', 'id': 1397823}, {'name': 'Ian Whiteford', 'gender': 0, 'department': 'Art', 'job': 'Greensman', 'credit_id': '54c22b05c3a36878d000384e', 'id': 1398089}, {'name': 'Hans Bjerno', 'gender': 0, 'department': 'Camera', 'job': 'Helicopter Camera', 'credit_id': '54c3785cc3a36878fb004fd2', 'id': 1399071}, {'name': 'Mustapha Mimis', 'gender': 0, 'department': 'Costume & Make-Up', 'job': 'Set Costumer', 'credit_id': '54c37a339251416e6000ee25', 'id': 1399323}, {'name': 'Bruce Lee Gross', 'gender': 0, 'department': 'Art', 'job': 'Leadman', 'credit_id': '54c22b5a9251416e6000cdc1', 'id': 1399463}, {'name': 'Ron Phillips', 'gender': 0, 'department': 'Camera', 'job': 'Still Photographer', 'credit_id': '54c378cfc3a3687929005bb1', 'id': 1399876}, {'name': 'Alejandro M. Hernandez', 'gender': 0, 'department': 'Costume & Make-Up', 'job': 'Set Costumer', 'credit_id': '54c37afbc3a368792c0050e2', 'id': 1401814}, {'name': 'Kathleen S. Dunn', 'gender': 1, 'department': 'Crew', 'job': 'Dialect Coach', 'credit_id': '54c37e5a925141243200588d', 'id': 1402008}, {'name': 'Matthew Reedy', 'gender': 0, 'department': 'Directing', 'job': 'Assistant Director', 'credit_id': '57785421c3a36826c9000a83', 'id': 1402079}, {'name': 'Roberto Craciunica', 'gender': 0, 'department': 'Costume & Make-Up', 'job': 'Costume Design', 'credit_id': '54c223c2c3a3686c610127d0', 'id': 1403424}, {'name': 'Candice D. Campos', 'gender': 0, 'department': 'Production', 'job': 'Production Supervisor', 'credit_id': '54c227f6c3a36878fb0031a8', 'id': 1403427}, {'name': 'Steve Koster', 'gender': 0, 'department': 'Camera', 'job': 'Helicopter Camera', 'credit_id': '54c3780d925141248900573b', 'id': 1404739}, {'name': 'Pete Bebb', 'gender': 0, 'department': 'Visual Effects', 'job': 'Visual Effects Supervisor', 'credit_id': '54c37482c3a36878fb004f73', 'id': 1408347}, {'name': 'Natasha Ladek', 'gender': 0, 'department': 'Costume & Make-Up', 'job': 'Wigmaker', 'credit_id': '54c2254892514124ed003561', 'id': 1409824}, {'name': 'Chris Bertholf', 'gender': 0, 'department': 'Art', 'job': 'Painter', 'credit_id': '567d811dc3a36860e9006747', 'id': 1411808}, {'name': 'Jay Wejebe', 'gender': 0, 'department': 'Costume & Make-Up', 'job': 'Makeup Artist', 'credit_id': '54c224b7c3a36879290038de', 'id': 1412185}, {'name': 'William Gideon', 'gender': 0, 'department': 'Art', 'job': 'Construction Foreman', 'credit_id': '54c22a7e92514124ed0035cf', 'id': 1413089}, {'name': 'Joel Green', 'gender': 0, 'department': 'Crew', 'job': 'Sequence Supervisor', 'credit_id': '54c3761dc3a368789b005920', 'id': 1415157}, {'name': 'Diana Choi', 'gender': 0, 'department': 'Crew', 'job': 'Makeup Effects', 'credit_id': '56fd6190c3a3685cda0005de', 'id': 1415606}, {'name': 'Claudia Kalindjian', 'gender': 0, 'department': 'Crew', 'job': 'Unit Publicist', 'credit_id': '54c37e11c3a3681421011a8f', 'id': 1416005}, {'name': 'Toby Britton', 'gender': 0, 'department': 'Art', 'job': 'Art Direction', 'credit_id': '54c2233c92514124c8003261', 'id': 1417396}, {'name': 'Jonathan Kevin Ong', 'gender': 0, 'department': 'Art', 'job': 'Art Direction', 'credit_id': '54c2235ec3a368142100fa9a', 'id': 1417397}, {'name': 'Janice Alexander', 'gender': 0, 'department': 'Costume & Make-Up', 'job': 'Hairstylist', 'credit_id': '54c223ea9251416e6000cd21', 'id': 1417398}, {'name': 'Patricia DeHaney', 'gender': 0, 'department': 'Costume & Make-Up', 'job': 'Hairstylist', 'credit_id': '54c2240292514124460034ac', 'id': 1417399}, {'name': 'Deena Adair', 'gender': 0, 'department': 'Costume & Make-Up', 'job': 'Hairstylist', 'credit_id': '54c224619251416eae00c3aa', 'id': 1417400}, {'name': 'Andre Gilbert', 'gender': 0, 'department': 'Crew', 'job': 'Makeup Effects', 'credit_id': '54c225c2c3a36878d00037bb', 'id': 1417403}, {'name': 'Michael Murray', 'gender': 0, 'department': 'Production', 'job': 'Production Manager', 'credit_id': '54c227a49251416e6000cd7b', 'id': 1417406}, {'name': 'Thomas Hayslip', 'gender': 0, 'department': 'Production', 'job': 'Production Manager', 'credit_id': '54c227dc925141248900361a', 'id': 1417407}, {'name': 'Mika Saito', 'gender': 0, 'department': 'Production', 'job': 'Production Supervisor', 'credit_id': '54c2280ec3a3687929003931', 'id': 1417408}, {'name': 'Pippa Needs', 'gender': 0, 'department': 'Art', 'job': 'Art Department Coordinator', 'credit_id': '54c22867c3a3686c6101282f', 'id': 1417409}, {'name': 'Laura Pliskin', 'gender': 0, 'department': 'Art', 'job': 'Art Department Coordinator', 'credit_id': '54c22883925141244600351e', 'id': 1417410}, {'name': 'Anna Bregman', 'gender': 0, 'department': 'Art', 'job': 'Assistant Art Director', 'credit_id': '54c228d49251416e6000cd90', 'id': 1417411}, {'name': 'Robert W. Joseph', 'gender': 0, 'department': 'Art', 'job': 'Assistant Art Director', 'credit_id': '54c2290cc3a36878fb0031c1', 'id': 1417412}, {'name': 'Barry Wilkinson', 'gender': 0, 'department': 'Crew', 'job': 'Property Master', 'credit_id': '54c22949c3a36878d000381a', 'id': 1417413}, {'name': 'Glen Pangione', 'gender': 0, 'department': 'Art', 'job': 'Construction Coordinator', 'credit_id': '54c229eec3a36878d0003836', 'id': 1417414}, {'name': 'Mychael Bates', 'gender': 2, 'department': 'Art', 'job': 'Property Master', 'credit_id': '594851dac3a36816f6048d7d', 'id': 1417415}, {'name': 'Brandon A. Plonka', 'gender': 0, 'department': 'Art', 'job': 'Greensman', 'credit_id': '54c22ac69251416eae00c42c', 'id': 1417416}, {'name': 'Elizabeth Tomasetti', 'gender': 0, 'department': 'Crew', 'job': 'Scenic Artist', 'credit_id': '54c22ae3c3a368792900396e', 'id': 1417417}, {'name': 'Sean Ginevan', 'gender': 0, 'department': 'Art', 'job': 'Leadman', 'credit_id': '54c22d4592514124c8003368', 'id': 1417418}, {'name': 'Jason Kolowski', 'gender': 0, 'department': 'Art', 'job': 'Set Designer', 'credit_id': '54c22df6c3a36878d000388e', 'id': 1417419}, {'name': 'Michael Babcock', 'gender': 0, 'department': 'Sound', 'job': 'Sound Effects Editor', 'credit_id': '54c273ec92514124ed003c0a', 'id': 1417514}, {'name': 'Michael Babcock', 'gender': 0, 'department': 'Sound', 'job': 'Sound Re-Recording Mixer', 'credit_id': '54c2752392514124c80039d3', 'id': 1417514}, {'name': 'Randle Akerson', 'gender': 0, 'department': 'Sound', 'job': 'Sound Effects Editor', 'credit_id': '54c273fec3a368789b003f7a', 'id': 1417515}, {'name': 'Jeff Sawyer', 'gender': 0, 'department': 'Sound', 'job': 'Sound Effects Editor', 'credit_id': '54c27428925141315a0062f5', 'id': 1417516}, {'name': 'Carlos Solis', 'gender': 0, 'department': 'Sound', 'job': 'Sound Re-Recording Mixer', 'credit_id': '54c274f1c3a36879290040da', 'id': 1417517}, {'name': 'Nick Dacey', 'gender': 0, 'department': 'Crew', 'job': 'Visual Effects Editor', 'credit_id': '54c37193c3a368792c004fed', 'id': 1417820}, {'name': 'Claudia Dehmel', 'gender': 0, 'department': 'Visual Effects', 'job': 'Visual Effects Producer', 'credit_id': '54c372959251416eae00e22d', 'id': 1417821}, {'name': 'Reuben Lloyd-Pack', 'gender': 0, 'department': 'Crew', 'job': 'Visual Effects Editor', 'credit_id': '54c372e39251416e6000ed54', 'id': 1417822}, {'name': 'Steve Miller', 'gender': 0, 'department': 'Crew', 'job': 'Visual Effects Editor', 'credit_id': '54c3731892514124c8005254', 'id': 1417823}, {'name': 'Christopher Payne', 'gender': 0, 'department': 'Crew', 'job': 'Visual Effects Editor', 'credit_id': '54c3738f9251416e6000ed5f', 'id': 1417824}, {'name': 'Julian Foddy', 'gender': 0, 'department': 'Crew', 'job': 'CG Supervisor', 'credit_id': '54c374b392514124890056d9', 'id': 1417825}, {'name': 'Paul J. Franklin', 'gender': 0, 'department': 'Visual Effects', 'job': 'Visual Effects Supervisor', 'credit_id': '54c374cc9251416e6000ed85', 'id': 1417826}, {'name': 'Nicola Hoyle', 'gender': 0, 'department': 'Crew', 'job': 'CG Supervisor', 'credit_id': '54c374eec3a368789b005901', 'id': 1417827}, {'name': 'Andrew Lockley', 'gender': 0, 'department': 'Visual Effects', 'job': 'Visual Effects Supervisor', 'credit_id': '54c37524c3a3687929005b32', 'id': 1417828}, {'name': 'Alison Wortman', 'gender': 0, 'department': 'Crew', 'job': 'Sequence Supervisor', 'credit_id': '54c3757ac3a36833380010d3', 'id': 1417829}, {'name': 'Maxx Wai In Leong', 'gender': 0, 'department': 'Crew', 'job': 'Sequence Supervisor', 'credit_id': '54c375b49251416e6000ed9d', 'id': 1417830}, {'name': 'Sy Hollands', 'gender': 0, 'department': 'Crew', 'job': 'Stunt Coordinator', 'credit_id': '54c3766ac3a36814210119e7', 'id': 1417831}, {'name': 'Ryan Rodriguez', 'gender': 0, 'department': 'Lighting', 'job': 'Gaffer', 'credit_id': '54c377e49251416e6000edfc', 'id': 1417832}, {'name': 'Reuben Garrett', 'gender': 0, 'department': 'Lighting', 'job': 'Gaffer', 'credit_id': '54c3783c92514124c80052d6', 'id': 1417833}, {'name': 'Dane Bjerno', 'gender': 0, 'department': 'Camera', 'job': 'Camera Technician', 'credit_id': '54c378719251416eae00e2db', 'id': 1417834}, {'name': 'Ian Franklin', 'gender': 0, 'department': 'Lighting', 'job': 'Rigging Gaffer', 'credit_id': '54c378a49251412432005815', 'id': 1417835}, {'name': 'Andrew McEvoy', 'gender': 0, 'department': 'Visual Effects', 'job': 'Animation', 'credit_id': '54c379219251412446005555', 'id': 1417836}, {'name': 'Brendan Handscombe', 'gender': 0, 'department': 'Costume & Make-Up', 'job': 'Costume Supervisor', 'credit_id': '54c3798b92514124ed005678', 'id': 1417837}, {'name': 'Lindsay Kouri', 'gender': 0, 'department': 'Costume & Make-Up', 'job': 'Set Costumer', 'credit_id': '54c37ac9c3a36878fb00501a', 'id': 1417838}, {'name': 'David Butler', 'gender': 0, 'department': 'Costume & Make-Up', 'job': 'Set Costumer', 'credit_id': '54c37ba5c3a3683338001180', 'id': 1417839}, {'name': 'Eric A. Lewy', 'gender': 0, 'department': 'Editing', 'job': 'First Assistant Editor', 'credit_id': '54c37c01c3a3687929005c04', 'id': 1417840}, {'name': 'Ryan Rubin', 'gender': 0, 'department': 'Sound', 'job': 'Music Editor', 'credit_id': '54c37c29925141243200586d', 'id': 1417841}, {'name': 'Gary Birmingham', 'gender': 0, 'department': 'Crew', 'job': 'Transportation Coordinator', 'credit_id': '54c37c42c3a36878d0005a31', 'id': 1417842}, {'name': 'Tyler W. Gaisford', 'gender': 0, 'department': 'Crew', 'job': 'Picture Car Coordinator', 'credit_id': '54c37c7592514124ed0056af', 'id': 1417843}, {'name': 'Mark Somner', 'gender': 0, 'department': 'Production', 'job': 'Location Manager', 'credit_id': '54c37d6dc3a3687c4000fd1b', 'id': 1417844}, {'name': 'Joaquin Diego Prange', 'gender': 0, 'department': 'Production', 'job': 'Location Manager', 'credit_id': '54c37d9fc3a3687c4000fd20', 'id': 1417845}, {'name': 'Vans Pradeep Singh Rathore', 'gender': 0, 'department': 'Production', 'job': 'Location Manager', 'credit_id': '54c37dbb9251416e6000ee57', 'id': 1417846}, {'name': 'James A. Mahathey', 'gender': 0, 'department': 'Production', 'job': 'Location Manager', 'credit_id': '54c37de6c3a36878d0005a54', 'id': 1417847}, {'name': 'Jonathan Hook', 'gender': 0, 'department': 'Production', 'job': 'Location Manager', 'credit_id': '54c37e2cc3a36833380011b6', 'id': 1417848}, {'name': 'Stephanie Hovette', 'gender': 0, 'department': 'Costume & Make-Up', 'job': 'Hairstylist', 'credit_id': '56c266579251414a89000a2a', 'id': 1427499}, {'name': 'Brian Smyj', 'gender': 0, 'department': 'Crew', 'job': 'Stunts', 'credit_id': '569fd0f6c3a36858c300a313', 'id': 1434599}, {'name': 'Donald Likovich', 'gender': 0, 'department': 'Editing', 'job': 'Assistant Editor', 'credit_id': '56d4e8b3c3a3681e44017a1d', 'id': 1440853}, {'name': 'Ian Mclaughlin', 'gender': 0, 'department': 'Crew', 'job': 'Stunts', 'credit_id': '56817ef292514132db00f181', 'id': 1455503}, {'name': 'Dixie Webster', 'gender': 0, 'department': 'Production', 'job': 'Casting', 'credit_id': '56d872209251414291007577', 'id': 1463954}, {'name': 'Victor Paguia', 'gender': 0, 'department': 'Crew', 'job': 'Stunts', 'credit_id': '568180369251414f6300a677', 'id': 1468581}, {'name': 'Wade Sullivan', 'gender': 0, 'department': 'Costume & Make-Up', 'job': 'Assistant Costume Designer', 'credit_id': '5682ca7392514169d0000aae', 'id': 1468589}, {'name': 'Sid Karne', 'gender': 0, 'department': 'Crew', 'job': 'Stunts', 'credit_id': '56744cfb92514179dd00006d', 'id': 1483827}, {'name': 'Sid Karne', 'gender': 0, 'department': 'Directing', 'job': 'Assistant Director', 'credit_id': '5621354392514171d000883b', 'id': 1483827}, {'name': 'Michael J. Prate', 'gender': 0, 'department': 'Camera', 'job': 'Grip', 'credit_id': '5681e419c3a36828f5007e50', 'id': 1509394}, {'name': 'Tom Prate', 'gender': 0, 'department': 'Camera', 'job': 'Grip', 'credit_id': '5681e47a92514113340099ff', 'id': 1509396}, {'name': 'R. Cory McCutcheon', 'gender': 0, 'department': 'Costume & Make-Up', 'job': 'Hairstylist', 'credit_id': '567d7b08c3a3684bd00070c2', 'id': 1516458}, {'name': \"Anne O'Brien\", 'gender': 0, 'department': 'Editing', 'job': 'Assistant Editor', 'credit_id': '56ba969e92514169b3000721', 'id': 1525908}, {'name': 'Rex Reddick', 'gender': 0, 'department': 'Crew', 'job': 'Stunts', 'credit_id': '578fbfa19251411d5700117b', 'id': 1531529}, {'name': 'Bob Hall', 'gender': 0, 'department': 'Camera', 'job': 'First Assistant Camera', 'credit_id': '57d6ea2fc3a368023a00044e', 'id': 1532610}, {'name': 'Blake Pike', 'gender': 0, 'department': 'Lighting', 'job': 'Rigging Grip', 'credit_id': '57bf2c29c3a3685c5d003e00', 'id': 1532612}, {'name': 'Philip Shanahan', 'gender': 0, 'department': 'Camera', 'job': 'First Assistant Camera', 'credit_id': '566f8003c3a3680e7300cb03', 'id': 1532613}, {'name': 'Dan Brown', 'gender': 2, 'department': 'Crew', 'job': 'Stunts', 'credit_id': '56452aa6c3a36870ec006931', 'id': 1535095}, {'name': 'Adam Camacho', 'gender': 0, 'department': 'Camera', 'job': 'Grip', 'credit_id': '56452cb89251410a4c006cdf', 'id': 1535096}, {'name': 'Shaun Sangkarat', 'gender': 0, 'department': 'Camera', 'job': 'Grip', 'credit_id': '56452e7ac3a36870ef006f32', 'id': 1535102}, {'name': 'Aja Frary', 'gender': 1, 'department': 'Crew', 'job': 'Stunts', 'credit_id': '56817c9ec3a3682abc00a14b', 'id': 1544394}, {'name': 'Mark Fichera', 'gender': 2, 'department': 'Crew', 'job': 'Stunts', 'credit_id': '56817c4b9251417def011851', 'id': 1544395}, {'name': 'Patrick Hogan', 'gender': 0, 'department': 'Crew', 'job': 'Driver', 'credit_id': '566875bec3a36836970036e9', 'id': 1546907}, {'name': 'Robert Wilson', 'gender': 0, 'department': 'Costume & Make-Up', 'job': 'Hairstylist', 'credit_id': '566dbc4a92514169e200c3cd', 'id': 1548530}, {'name': 'Ray Maxwell', 'gender': 0, 'department': 'Crew', 'job': 'Propmaker', 'credit_id': '566f03c1925141500100a095', 'id': 1549015}, {'name': 'Scotty Richards', 'gender': 0, 'department': 'Crew', 'job': 'Stunts Coordinator', 'credit_id': '566f0f16c3a368535a011220', 'id': 1549026}, {'name': 'Marc Scizak', 'gender': 2, 'department': 'Crew', 'job': 'Stunts', 'credit_id': '5671a5adc3a368535a01870d', 'id': 1549741}, {'name': 'Joe Guzman', 'gender': 0, 'department': 'Lighting', 'job': 'Rigging Grip', 'credit_id': '5672f427c3a3680712003145', 'id': 1550248}, {'name': 'Damiano Fusca', 'gender': 0, 'department': 'Crew', 'job': 'Set Production Assistant', 'credit_id': '5673487792514163b9003756', 'id': 1550400}, {'name': 'Chris Cenatiempo', 'gender': 2, 'department': 'Crew', 'job': 'Stunts', 'credit_id': '56817a49c3a3682abc00a0a5', 'id': 1550725}, {'name': 'Joey J. Cook III', 'gender': 0, 'department': 'Camera', 'job': 'Camera Intern', 'credit_id': '567607cd92514179e7003fcb', 'id': 1551373}, {'name': 'David Orr', 'gender': 0, 'department': 'Editing', 'job': 'Color Timer', 'credit_id': '568f076fc3a368324c0000ac', 'id': 1552549}, {'name': 'Scott Burik', 'gender': 0, 'department': 'Crew', 'job': 'Stunts', 'credit_id': '5680378d9251412e5200bc04', 'id': 1554393}, {'name': 'Mike Burke', 'gender': 0, 'department': 'Crew', 'job': 'Stunts', 'credit_id': '5681798292514131df00eabe', 'id': 1554915}, {'name': 'Shane Geraghty', 'gender': 0, 'department': 'Crew', 'job': 'Stunts', 'credit_id': '56817cecc3a3682abc00a155', 'id': 1554921}, {'name': 'Balint Pinczehelyi', 'gender': 0, 'department': 'Lighting', 'job': 'Rigging Grip', 'credit_id': '568180ea9251417def0118f7', 'id': 1554924}, {'name': 'Kevin Rogers', 'gender': 0, 'department': 'Crew', 'job': 'Stunts', 'credit_id': '56818203c3a36860e9010d12', 'id': 1554925}, {'name': 'Shawnna Thibodeau', 'gender': 0, 'department': 'Crew', 'job': 'Stunts', 'credit_id': '568182e7c3a3684be3011a16', 'id': 1554926}, {'name': 'Caroline Vexler', 'gender': 0, 'department': 'Crew', 'job': 'Stunts', 'credit_id': '568183fac3a36860e9010d53', 'id': 1554931}, {'name': 'Kevin Flynn', 'gender': 2, 'department': 'Lighting', 'job': 'Rigging Grip', 'credit_id': '5681e190c3a3684bcc013316', 'id': 1555027}, {'name': 'Mark Scoon', 'gender': 0, 'department': 'Production', 'job': 'Executive In Charge Of Production', 'credit_id': '56b78254c3a36806ec00e6f5', 'id': 1564997}, {'name': 'Nilo Otero', 'gender': 0, 'department': 'Directing', 'job': 'Assistant Director', 'credit_id': '56b781afc3a36806ec00e6e0', 'id': 1566280}, {'name': 'David E. Hall', 'gender': 0, 'department': 'Crew', 'job': 'Post Production Supervisor', 'credit_id': '5766ccd8c3a3687f5300121a', 'id': 1571601}, {'name': 'Mark Aaron Wagner', 'gender': 2, 'department': 'Crew', 'job': 'Stunts', 'credit_id': '573e668892514108d9000856', 'id': 1622657}, {'name': 'Ed McDermott II', 'gender': 0, 'department': 'Crew', 'job': 'Stunts', 'credit_id': '579bf757c3a3681678003103', 'id': 1634437}, {'name': \"Conor O'Sullivan\", 'gender': 0, 'department': 'Costume & Make-Up', 'job': 'Prosthetic Supervisor', 'credit_id': '5766cc219251416995000666', 'id': 1638257}, {'name': 'Nakul Kamte', 'gender': 0, 'department': 'Sound', 'job': 'Sound Mixer', 'credit_id': '5777f94a9251415f060011a6', 'id': 1644412}, {'name': 'Dileep Singh Rathore', 'gender': 0, 'department': 'Production', 'job': 'Line Producer', 'credit_id': '577852f992514136e100208d', 'id': 1644543}]",
         "Christopher Nolan"
        ],
        [
         "4",
         "4",
         "260000000",
         "Action Adventure Science Fiction",
         "http://movies.disney.com/john-carter",
         "49529",
         "based on novel mars medallion space travel princess",
         "en",
         "John Carter",
         "John Carter is a war-weary, former military captain who's inexplicably transported to the mysterious and exotic planet of Barsoom (Mars) and reluctantly becomes embroiled in an epic conflict. It's a world on the brink of collapse, and Carter rediscovers his humanity when he realizes the survival of Barsoom and its people rests in his hands.",
         "43.926995",
         "[{\"name\": \"Walt Disney Pictures\", \"id\": 2}]",
         "[{\"iso_3166_1\": \"US\", \"name\": \"United States of America\"}]",
         "2012-03-07",
         "284139100",
         "132.0",
         "[{\"iso_639_1\": \"en\", \"name\": \"English\"}]",
         "Released",
         "Lost in our world, found in another.",
         "John Carter",
         "6.1",
         "2124",
         "Taylor Kitsch Lynn Collins Samantha Morton Willem Dafoe Thomas Haden Church",
         "[{'name': 'Andrew Stanton', 'gender': 2, 'department': 'Writing', 'job': 'Screenplay', 'credit_id': '52fe479ac3a36847f813eaa3', 'id': 7}, {'name': 'Andrew Stanton', 'gender': 2, 'department': 'Directing', 'job': 'Director', 'credit_id': '52fe479ac3a36847f813ea65', 'id': 7}, {'name': 'John Lasseter', 'gender': 2, 'department': 'Crew', 'job': 'Thanks', 'credit_id': '58c69e819251411d30017673', 'id': 7879}, {'name': 'Colin Wilson', 'gender': 2, 'department': 'Production', 'job': 'Producer', 'credit_id': '52fe479ac3a36847f813eac5', 'id': 490}, {'name': 'Gail Stevens', 'gender': 2, 'department': 'Production', 'job': 'Casting', 'credit_id': '58c68f2b9251411d30016cf2', 'id': 2073}, {'name': 'Tom Johnson', 'gender': 2, 'department': 'Sound', 'job': 'Sound Re-Recording Mixer', 'credit_id': '58c68ef19251411d62016ec3', 'id': 3996}, {'name': 'Eric Zumbrunnen', 'gender': 2, 'department': 'Editing', 'job': 'Editor', 'credit_id': '52fe479ac3a36847f813ead7', 'id': 6958}, {'name': 'Michael Silvers', 'gender': 0, 'department': 'Editing', 'job': 'Dialogue Editor', 'credit_id': '58c69a9ec3a36840b801738e', 'id': 8158}, {'name': 'Juan Peralta', 'gender': 0, 'department': 'Sound', 'job': 'Sound Re-Recording Mixer', 'credit_id': '58c68f1ec3a368413b015877', 'id': 8166}, {'name': 'Paul Gooch', 'gender': 0, 'department': 'Costume & Make-Up', 'job': 'Key Makeup Artist', 'credit_id': '58c69340c3a36841200154c9', 'id': 8412}, {'name': 'Paki Smith', 'gender': 0, 'department': 'Art', 'job': 'Set Decoration', 'credit_id': '58c69cc0c3a368413001574a', 'id': 12039}, {'name': 'Ed Catmull', 'gender': 0, 'department': 'Crew', 'job': 'Thanks', 'credit_id': '58c69e9e9251411d11017c02', 'id': 12895}, {'name': 'Steve Jobs', 'gender': 2, 'department': 'Crew', 'job': 'In Memory Of', 'credit_id': '58c689079251411d19017350', 'id': 12897}, {'name': 'Bill Corso', 'gender': 2, 'department': 'Costume & Make-Up', 'job': 'Makeup Designer', 'credit_id': '56abe29d9251417e22003953', 'id': 15017}, {'name': 'Robert Woodruff', 'gender': 2, 'department': 'Art', 'job': 'Art Direction', 'credit_id': '58c691fc9251411d30016e75', 'id': 14762}, {'name': 'Nathan Crowley', 'gender': 2, 'department': 'Art', 'job': 'Production Design', 'credit_id': '52fe479ac3a36847f813eae3', 'id': 15327}, {'name': 'Michael Giacchino', 'gender': 2, 'department': 'Sound', 'job': 'Music', 'credit_id': '58c6888bc3a36840f6014f95', 'id': 15347}, {'name': 'Daniel Mindel', 'gender': 0, 'department': 'Camera', 'job': 'Director of Photography', 'credit_id': '52fe479ac3a36847f813ead1', 'id': 15348}, {'name': 'Stephen M. Davis', 'gender': 2, 'department': 'Sound', 'job': 'Music Editor', 'credit_id': '58c69adcc3a36840f6015b94', 'id': 15354}, {'name': 'John King', 'gender': 2, 'department': 'Art', 'job': 'Art Direction', 'credit_id': '58c69227c3a36840f60155d7', 'id': 34513}, {'name': 'Mayes C. Rubeo', 'gender': 0, 'department': 'Costume & Make-Up', 'job': 'Costume Design', 'credit_id': '52fe479ac3a36847f813eafb', 'id': 17675}, {'name': 'Naaman Marshall', 'gender': 0, 'department': 'Art', 'job': 'Supervising Art Director', 'credit_id': '570b939092514111f20029c9', 'id': 17677}, {'name': 'Scott Zuber', 'gender': 0, 'department': 'Art', 'job': 'Art Direction', 'credit_id': '58c69203c3a36841140150c8', 'id': 18925}, {'name': 'Phil Harvey', 'gender': 2, 'department': 'Art', 'job': 'Art Direction', 'credit_id': '58c6905bc3a3684128014f17', 'id': 23454}, {'name': 'Tim Simonec', 'gender': 0, 'department': 'Sound', 'job': 'Orchestrator', 'credit_id': '58c69aedc3a36841140156e9', 'id': 28241}, {'name': 'Veronica McAleer', 'gender': 0, 'department': 'Costume & Make-Up', 'job': 'Makeup Artist', 'credit_id': '58c69811c3a368410c0160b1', 'id': 29233}, {'name': 'Edgar Rice Burroughs', 'gender': 2, 'department': 'Writing', 'job': 'Original Story', 'credit_id': '52fe479ac3a36847f813eb07', 'id': 15776}, {'name': 'Marcia Ross', 'gender': 1, 'department': 'Production', 'job': 'Casting', 'credit_id': '52fe479ac3a36847f813eadd', 'id': 51557}, {'name': 'Peter Gabriel', 'gender': 2, 'department': 'Crew', 'job': 'Thanks', 'credit_id': '58c69f12c3a36841140159a5', 'id': 39624}, {'name': 'Christien Tinsley', 'gender': 0, 'department': 'Costume & Make-Up', 'job': 'Key Makeup Artist', 'credit_id': '58c6937f9251411d30016f5f', 'id': 61996}, {'name': 'Holly Dorff', 'gender': 0, 'department': 'Production', 'job': 'ADR Voice Casting', 'credit_id': '58c69acb9251411d19017f73', 'id': 64449}, {'name': 'Jim Morris', 'gender': 0, 'department': 'Production', 'job': 'Producer', 'credit_id': '52fe479ac3a36847f813eabf', 'id': 72752}, {'name': 'Lindsey Collins', 'gender': 0, 'department': 'Production', 'job': 'Producer', 'credit_id': '52fe479ac3a36847f813eab9', 'id': 72753}, {'name': 'Michael Chabon', 'gender': 2, 'department': 'Writing', 'job': 'Screenplay', 'credit_id': '52fe479ac3a36847f813eaaf', 'id': 67758}, {'name': 'Jan Foster', 'gender': 0, 'department': 'Production', 'job': 'Unit Production Manager', 'credit_id': '58c68a499251411d55016dd5', 'id': 91055}, {'name': 'John Skotchdopole', 'gender': 0, 'department': 'Camera', 'job': 'Camera Operator', 'credit_id': '58c699509251411d550177c7', 'id': 91912}, {'name': 'Chris Munro', 'gender': 2, 'department': 'Sound', 'job': 'Sound Mixer', 'credit_id': '58c6995cc3a368412001591e', 'id': 105780}, {'name': 'Peter Chiang', 'gender': 0, 'department': 'Visual Effects', 'job': 'Visual Effects Supervisor', 'credit_id': '58c6884e9251411d15016de7', 'id': 122274}, {'name': 'Mark Andrews', 'gender': 2, 'department': 'Writing', 'job': 'Screenplay', 'credit_id': '52fe479ac3a36847f813eaa9', 'id': 126638}, {'name': 'Jonathan Null', 'gender': 0, 'department': 'Sound', 'job': 'Supervising Sound Editor', 'credit_id': '58c68ed79251411d62016eb2', 'id': 138617}, {'name': 'Colin Jones', 'gender': 2, 'department': 'Production', 'job': 'Casting Associate', 'credit_id': '58c69c9a9251411d6201776e', 'id': 238120}, {'name': 'Ve Neill', 'gender': 1, 'department': 'Costume & Make-Up', 'job': 'Makeup Department Head', 'credit_id': '52fe479ac3a36847f813eb13', 'id': 406204}, {'name': 'Brittainy Roberts', 'gender': 1, 'department': 'Production', 'job': 'Casting Associate', 'credit_id': '58c69b249251411d0d018598', 'id': 528783}, {'name': 'Jeremy Turner', 'gender': 0, 'department': 'Costume & Make-Up', 'job': 'Assistant Costume Designer', 'credit_id': '58c698c9c3a36840b8017245', 'id': 967148}, {'name': 'Dean Wolcott', 'gender': 2, 'department': 'Art', 'job': 'Art Direction', 'credit_id': '58c691f5c3a36841200153f6', 'id': 969743}, {'name': 'Mark Harris', 'gender': 2, 'department': 'Art', 'job': 'Art Direction', 'credit_id': '58c69032c3a36841200152fe', 'id': 986687}, {'name': 'James Hambidge', 'gender': 0, 'department': 'Art', 'job': 'Supervising Art Director', 'credit_id': '570b9382c3a368779600816a', 'id': 1034754}, {'name': 'Lori Korngiebel', 'gender': 0, 'department': 'Crew', 'job': 'Post Production Supervisor', 'credit_id': '52fe479ac3a36847f813eb01', 'id': 1034755}, {'name': 'David Krentz', 'gender': 0, 'department': 'Art', 'job': 'Storyboard Designer', 'credit_id': '58c692ffc3a3684114015167', 'id': 1055222}, {'name': 'Chris Corbould', 'gender': 0, 'department': 'Visual Effects', 'job': 'Special Effects Supervisor', 'credit_id': '58c68e719251411d19017745', 'id': 1081073}, {'name': 'Colleen Kelsall', 'gender': 1, 'department': 'Costume & Make-Up', 'job': 'Assistant Costume Designer', 'credit_id': '58c698bec3a368411401553a', 'id': 1121742}, {'name': 'Bob Roath', 'gender': 0, 'department': 'Production', 'job': 'Associate Producer', 'credit_id': '58c68e2e9251411d47017e8a', 'id': 1123360}, {'name': 'Darrell L. Wight', 'gender': 0, 'department': 'Art', 'job': 'Set Designer', 'credit_id': '58c692629251411d620170a7', 'id': 1171098}, {'name': 'Bryan Andrews', 'gender': 0, 'department': 'Art', 'job': 'Storyboard Designer', 'credit_id': '58c692f9c3a36840b8016e22', 'id': 1218986}, {'name': 'Dennis Liddiard', 'gender': 0, 'department': 'Costume & Make-Up', 'job': 'Makeup Artist', 'credit_id': '58c6941f9251411d110174ca', 'id': 1316599}, {'name': 'Kevin Haney', 'gender': 0, 'department': 'Costume & Make-Up', 'job': 'Makeup Artist', 'credit_id': '58c6943a9251411d0d01804a', 'id': 1319490}, {'name': 'Josh Lusby', 'gender': 0, 'department': 'Art', 'job': 'Assistant Art Director', 'credit_id': '58c69244c3a368413b015a23', 'id': 1334782}, {'name': 'Jamie Wilkinson', 'gender': 0, 'department': 'Art', 'job': 'Property Master', 'credit_id': '58c69ccec3a36841280156f6', 'id': 1335553}, {'name': 'Roger Guyett', 'gender': 0, 'department': 'Crew', 'job': 'Thanks', 'credit_id': '58c69f219251411d190182a8', 'id': 1339450}, {'name': 'Denny Caira', 'gender': 0, 'department': 'Crew', 'job': 'Transportation Coordinator', 'credit_id': '58c69dc79251411d1901819d', 'id': 1357070}, {'name': 'Sue Rowe', 'gender': 0, 'department': 'Visual Effects', 'job': 'Visual Effects Supervisor', 'credit_id': '58c688709251411d3001684b', 'id': 1367497}, {'name': 'Toby Spigel', 'gender': 0, 'department': 'Production', 'job': 'Casting Assistant', 'credit_id': '58c69ca79251411d11017a77', 'id': 1374469}, {'name': 'Marshall Winn', 'gender': 0, 'department': 'Editing', 'job': 'Dialogue Editor', 'credit_id': '58c69aa59251411d11017919', 'id': 1376901}, {'name': 'Michael Semanick', 'gender': 0, 'department': 'Sound', 'job': 'Sound Re-Recording Mixer', 'credit_id': '58c68ee9c3a3684128014e36', 'id': 1378828}, {'name': 'Peter Dorme', 'gender': 0, 'department': 'Art', 'job': 'Assistant Art Director', 'credit_id': '58c692389251411d30016ea2', 'id': 1388850}, {'name': 'Perry Evans', 'gender': 0, 'department': 'Lighting', 'job': 'Gaffer', 'credit_id': '58c69cf49251411d4701890b', 'id': 1390367}, {'name': 'Annie Penn', 'gender': 0, 'department': 'Directing', 'job': 'Script Supervisor', 'credit_id': '58c699f4c3a368413b015f45', 'id': 1390388}, {'name': 'Tim Nielsen', 'gender': 0, 'department': 'Sound', 'job': 'Sound Designer', 'credit_id': '58c69a7ac3a368410c016254', 'id': 1394129}, {'name': 'Tim Nielsen', 'gender': 0, 'department': 'Sound', 'job': 'Supervising Sound Editor', 'credit_id': '58c68edec3a3684114014f16', 'id': 1394129}, {'name': 'Jenne Lee', 'gender': 0, 'department': 'Art', 'job': 'Art Department Coordinator', 'credit_id': '58c6928f9251411d55017337', 'id': 1395430}, {'name': 'Theodore Sharps', 'gender': 0, 'department': 'Art', 'job': 'Set Designer', 'credit_id': '58c6925b9251411d150174df', 'id': 1395435}, {'name': 'Joseph Hodges', 'gender': 0, 'department': 'Art', 'job': 'Art Direction', 'credit_id': '58c691c4c3a36840f6015583', 'id': 1397837}, {'name': 'Philippe Carr-Forster', 'gender': 0, 'department': 'Camera', 'job': 'Camera Operator', 'credit_id': '58c699489251411d300172de', 'id': 1399467}, {'name': 'Christopher Prampin', 'gender': 0, 'department': 'Lighting', 'job': 'Gaffer', 'credit_id': '58c69cfdc3a368413b016165', 'id': 1399475}, {'name': 'Colin Anderson', 'gender': 0, 'department': 'Camera', 'job': 'Camera Operator', 'credit_id': '58c69920c3a36841300154e2', 'id': 1400535}, {'name': 'Colin Anderson', 'gender': 0, 'department': 'Camera', 'job': 'Steadicam Operator', 'credit_id': '58c699259251411d620174e9', 'id': 1400535}, {'name': 'Jennifer Teves', 'gender': 0, 'department': 'Production', 'job': 'Production Supervisor', 'credit_id': '58c699ebc3a368411401561c', 'id': 1401784}, {'name': 'Kim Ayers', 'gender': 0, 'department': 'Costume & Make-Up', 'job': 'Key Makeup Artist', 'credit_id': '58c6935ec3a368413b015ae4', 'id': 1403388}, {'name': 'Daniel Barrow', 'gender': 0, 'department': 'Visual Effects', 'job': 'Visual Effects Producer', 'credit_id': '58c68e49c3a368413b0157eb', 'id': 1408379}, {'name': 'Debbi Salmon', 'gender': 0, 'department': 'Costume & Make-Up', 'job': 'Key Makeup Artist', 'credit_id': '58c6936fc3a368413b015aed', 'id': 1409757}, {'name': 'Paula Price', 'gender': 0, 'department': 'Costume & Make-Up', 'job': 'Key Makeup Artist', 'credit_id': '58c69339c3a36841200154c4', 'id': 1411320}, {'name': 'Frank Connor', 'gender': 0, 'department': 'Camera', 'job': 'Still Photographer', 'credit_id': '58c69dba9251411d0d018767', 'id': 1412205}, {'name': 'J.R. Grubbs', 'gender': 0, 'department': 'Sound', 'job': 'Sound Effects Editor', 'credit_id': '58c69a89c3a3684114015691', 'id': 1414177}, {'name': 'Deborah Rutherford', 'gender': 0, 'department': 'Costume & Make-Up', 'job': 'Makeup Artist', 'credit_id': '58c69452c3a36840f6015741', 'id': 1414539}, {'name': 'Don Rutherford', 'gender': 0, 'department': 'Costume & Make-Up', 'job': 'Makeup Artist', 'credit_id': '58c6946c9251411d15017617', 'id': 1414540}, {'name': 'Malcolm Fife', 'gender': 0, 'department': 'Sound', 'job': 'Sound Effects Editor', 'credit_id': '58c69a929251411d11017907', 'id': 1415464}, {'name': 'Toby Britton', 'gender': 0, 'department': 'Art', 'job': 'Assistant Art Director', 'credit_id': '58c6923e9251411d11017382', 'id': 1417396}, {'name': 'Kevin Alexander', 'gender': 0, 'department': 'Costume & Make-Up', 'job': 'Hair Designer', 'credit_id': '58c69866c3a368413001545d', 'id': 1418124}, {'name': 'Kristie Matthiae', 'gender': 0, 'department': 'Costume & Make-Up', 'job': 'Key Makeup Artist', 'credit_id': '58c693779251411d470181e4', 'id': 1421936}, {'name': 'Gerald Quist', 'gender': 0, 'department': 'Costume & Make-Up', 'job': 'Makeup Artist', 'credit_id': '58c694a99251411d15017646', 'id': 1424151}, {'name': 'Nuria Mbomio', 'gender': 0, 'department': 'Costume & Make-Up', 'job': 'Makeup Artist', 'credit_id': '58c693f39251411d110174a9', 'id': 1425411}, {'name': 'Eamonn Butler', 'gender': 0, 'department': 'Visual Effects', 'job': 'Animation Supervisor', 'credit_id': '58c68866c3a368413b015367', 'id': 1428901}, {'name': 'Laura Jennings', 'gender': 0, 'department': 'Crew', 'job': 'Visual Effects Editor', 'credit_id': '58c68ec89251411d11017191', 'id': 1428905}, {'name': 'Ailbhe Lemass', 'gender': 0, 'department': 'Costume & Make-Up', 'job': 'Makeup Artist', 'credit_id': '58c693919251411d0d017fde', 'id': 1428911}, {'name': 'Simon Finney', 'gender': 0, 'department': 'Camera', 'job': 'Camera Operator', 'credit_id': '58c6992f9251411d19017e49', 'id': 1430188}, {'name': 'Eryn Krueger Mekash', 'gender': 0, 'department': 'Costume & Make-Up', 'job': 'Makeup Artist', 'credit_id': '58c6948b9251411d15017628', 'id': 1441176}, {'name': 'Travis Witkowski', 'gender': 0, 'department': 'Art', 'job': 'Art Department Assistant', 'credit_id': '58c692ddc3a368413b015a8d', 'id': 1447571}, {'name': 'Mike Mekash', 'gender': 0, 'department': 'Costume & Make-Up', 'job': 'Makeup Artist', 'credit_id': '58c694809251411d15017622', 'id': 1458894}, {'name': 'Kirstin Chalmers', 'gender': 0, 'department': 'Costume & Make-Up', 'job': 'Makeup Artist', 'credit_id': '58c6940e9251411d19017aad', 'id': 1530220}, {'name': 'Kacie Seamons', 'gender': 0, 'department': 'Costume & Make-Up', 'job': 'Key Costumer', 'credit_id': '58c698e89251411d5501777a', 'id': 1532325}, {'name': 'Deborah Taylor', 'gender': 0, 'department': 'Costume & Make-Up', 'job': 'Makeup Artist', 'credit_id': '58c693b39251411d30016f78', 'id': 1536539}, {'name': 'Ryan Church', 'gender': 0, 'department': 'Crew', 'job': 'Visual Effects Art Director', 'credit_id': '58c68e84c3a36840f60153a1', 'id': 1546844}, {'name': 'Camille Henderson', 'gender': 0, 'department': 'Costume & Make-Up', 'job': 'Key Makeup Artist', 'credit_id': '58c693659251411d550173be', 'id': 1549655}, {'name': 'Tom Struthers', 'gender': 0, 'department': 'Crew', 'job': 'Stunt Coordinator', 'credit_id': '58c68fd29251411d30016d3f', 'id': 1550851}, {'name': 'Liam Georgensen', 'gender': 0, 'department': 'Art', 'job': 'Art Department Assistant', 'credit_id': '58c692bfc3a36840b8016df9', 'id': 1551810}, {'name': 'Lavinia Waters', 'gender': 0, 'department': 'Art', 'job': 'Art Department Coordinator', 'credit_id': '58c692869251411d30016ed9', 'id': 1561994}, {'name': 'Greg T. Moon', 'gender': 0, 'department': 'Costume & Make-Up', 'job': 'Makeup Artist', 'credit_id': '58c697f89251411d30017205', 'id': 1613336}, {'name': 'Richard Daldry', 'gender': 0, 'department': 'Production', 'job': 'Production Coordinator', 'credit_id': '58c69a07c3a36841200159ae', 'id': 1640350}, {'name': 'Stephen Finn', 'gender': 2, 'department': 'Sound', 'job': 'Boom Operator', 'credit_id': '58c69979c3a368413b015eef', 'id': 1658269}, {'name': 'Tom Castronovo', 'gender': 0, 'department': 'Art', 'job': 'Art Department Assistant', 'credit_id': '58c692e4c3a36840f601564a', 'id': 1661321}, {'name': 'Katherine McCormack', 'gender': 0, 'department': 'Crew', 'job': 'Unit Publicist', 'credit_id': '58c69dadc3a36841280157a4', 'id': 1686002}, {'name': 'Steve Harding', 'gender': 0, 'department': 'Production', 'job': 'Unit Production Manager', 'credit_id': '58c689439251411d15016ed6', 'id': 1697623}, {'name': 'Erik Jessen', 'gender': 0, 'department': 'Editing', 'job': 'Additional Editing', 'credit_id': '58c68ebdc3a3684128014e11', 'id': 1710258}, {'name': 'Tommy Gormley', 'gender': 0, 'department': 'Directing', 'job': 'First Assistant Director', 'credit_id': '58c689739251411d47017af1', 'id': 1750922}, {'name': 'Sarah Ginn', 'gender': 0, 'department': 'Art', 'job': 'Art Department Assistant', 'credit_id': '58c692c7c3a36841300150c2', 'id': 1761112}, {'name': 'Ben Dixon', 'gender': 0, 'department': 'Directing', 'job': 'Second Assistant Director', 'credit_id': '58c689aa9251411d55016d59', 'id': 1775681}, {'name': 'Andrew M. Ward', 'gender': 2, 'department': 'Directing', 'job': 'Second Assistant Director', 'credit_id': '58c68a859251411d1901746d', 'id': 1775682}, {'name': 'Stacey Newton', 'gender': 0, 'department': 'Art', 'job': 'Art Department Coordinator', 'credit_id': '58c692a4c3a368413b015a64', 'id': 1775687}, {'name': 'Rachel Corbould', 'gender': 0, 'department': 'Art', 'job': 'Art Department Assistant', 'credit_id': '58c692b6c3a368412001546d', 'id': 1775688}, {'name': 'Jake Hall', 'gender': 0, 'department': 'Art', 'job': 'Art Department Assistant', 'credit_id': '58c692d4c3a368413b015a88', 'id': 1775689}, {'name': 'Gemma Richards', 'gender': 0, 'department': 'Costume & Make-Up', 'job': 'Key Makeup Artist', 'credit_id': '58c693589251411d0d017fb3', 'id': 1775690}, {'name': 'Sara Riesel', 'gender': 0, 'department': 'Costume & Make-Up', 'job': 'Makeup Artist', 'credit_id': '58c693fe9251411d55017423', 'id': 1775691}, {'name': 'Paul Boyce', 'gender': 0, 'department': 'Costume & Make-Up', 'job': 'Makeup Artist', 'credit_id': '58c69407c3a368413b015b42', 'id': 1775692}, {'name': 'Mandy Gold', 'gender': 0, 'department': 'Costume & Make-Up', 'job': 'Makeup Artist', 'credit_id': '58c694189251411d19017ab6', 'id': 1775693}, {'name': 'Candice Banks', 'gender': 0, 'department': 'Costume & Make-Up', 'job': 'Hairstylist', 'credit_id': '58c698989251411d0d01836e', 'id': 1775701}, {'name': 'Gary Machin', 'gender': 0, 'department': 'Costume & Make-Up', 'job': 'Hairstylist', 'credit_id': '58c698a59251411d19017de5', 'id': 1775702}, {'name': 'Noel Espinosa', 'gender': 0, 'department': 'Sound', 'job': 'Boom Operator', 'credit_id': '58c69994c3a36840b80172dd', 'id': 1775704}, {'name': 'Meredith Humbracht', 'gender': 0, 'department': 'Production', 'job': 'Production Coordinator', 'credit_id': '58c69a309251411d110178c9', 'id': 1775707}, {'name': 'Gary Hymns', 'gender': 0, 'department': 'Camera', 'job': 'Key Grip', 'credit_id': '58c69d39c3a368410c0163fd', 'id': 1775718}, {'name': 'Thomas Gibson', 'gender': 0, 'department': 'Camera', 'job': 'Key Grip', 'credit_id': '58c69da6c3a368413b01620f', 'id': 1775721}, {'name': 'Danton Burroughs', 'gender': 0, 'department': 'Crew', 'job': 'Thanks', 'credit_id': '58c69ec49251411d55017be6', 'id': 1775723}, {'name': 'Karin Silvestri', 'gender': 1, 'department': 'Crew', 'job': 'Stunts', 'credit_id': '591264bac3a368646b04fda5', 'id': 1813644}]",
         "Andrew Stanton"
        ]
       ],
       "shape": {
        "columns": 24,
        "rows": 5
       }
      },
      "text/html": [
       "<div>\n",
       "<style scoped>\n",
       "    .dataframe tbody tr th:only-of-type {\n",
       "        vertical-align: middle;\n",
       "    }\n",
       "\n",
       "    .dataframe tbody tr th {\n",
       "        vertical-align: top;\n",
       "    }\n",
       "\n",
       "    .dataframe thead th {\n",
       "        text-align: right;\n",
       "    }\n",
       "</style>\n",
       "<table border=\"1\" class=\"dataframe\">\n",
       "  <thead>\n",
       "    <tr style=\"text-align: right;\">\n",
       "      <th></th>\n",
       "      <th>index</th>\n",
       "      <th>budget</th>\n",
       "      <th>genres</th>\n",
       "      <th>homepage</th>\n",
       "      <th>id</th>\n",
       "      <th>keywords</th>\n",
       "      <th>original_language</th>\n",
       "      <th>original_title</th>\n",
       "      <th>overview</th>\n",
       "      <th>popularity</th>\n",
       "      <th>...</th>\n",
       "      <th>runtime</th>\n",
       "      <th>spoken_languages</th>\n",
       "      <th>status</th>\n",
       "      <th>tagline</th>\n",
       "      <th>title</th>\n",
       "      <th>vote_average</th>\n",
       "      <th>vote_count</th>\n",
       "      <th>cast</th>\n",
       "      <th>crew</th>\n",
       "      <th>director</th>\n",
       "    </tr>\n",
       "  </thead>\n",
       "  <tbody>\n",
       "    <tr>\n",
       "      <th>0</th>\n",
       "      <td>0</td>\n",
       "      <td>237000000</td>\n",
       "      <td>Action Adventure Fantasy Science Fiction</td>\n",
       "      <td>http://www.avatarmovie.com/</td>\n",
       "      <td>19995</td>\n",
       "      <td>culture clash future space war space colony so...</td>\n",
       "      <td>en</td>\n",
       "      <td>Avatar</td>\n",
       "      <td>In the 22nd century, a paraplegic Marine is di...</td>\n",
       "      <td>150.437577</td>\n",
       "      <td>...</td>\n",
       "      <td>162.0</td>\n",
       "      <td>[{\"iso_639_1\": \"en\", \"name\": \"English\"}, {\"iso...</td>\n",
       "      <td>Released</td>\n",
       "      <td>Enter the World of Pandora.</td>\n",
       "      <td>Avatar</td>\n",
       "      <td>7.2</td>\n",
       "      <td>11800</td>\n",
       "      <td>Sam Worthington Zoe Saldana Sigourney Weaver S...</td>\n",
       "      <td>[{'name': 'Stephen E. Rivkin', 'gender': 0, 'd...</td>\n",
       "      <td>James Cameron</td>\n",
       "    </tr>\n",
       "    <tr>\n",
       "      <th>1</th>\n",
       "      <td>1</td>\n",
       "      <td>300000000</td>\n",
       "      <td>Adventure Fantasy Action</td>\n",
       "      <td>http://disney.go.com/disneypictures/pirates/</td>\n",
       "      <td>285</td>\n",
       "      <td>ocean drug abuse exotic island east india trad...</td>\n",
       "      <td>en</td>\n",
       "      <td>Pirates of the Caribbean: At World's End</td>\n",
       "      <td>Captain Barbossa, long believed to be dead, ha...</td>\n",
       "      <td>139.082615</td>\n",
       "      <td>...</td>\n",
       "      <td>169.0</td>\n",
       "      <td>[{\"iso_639_1\": \"en\", \"name\": \"English\"}]</td>\n",
       "      <td>Released</td>\n",
       "      <td>At the end of the world, the adventure begins.</td>\n",
       "      <td>Pirates of the Caribbean: At World's End</td>\n",
       "      <td>6.9</td>\n",
       "      <td>4500</td>\n",
       "      <td>Johnny Depp Orlando Bloom Keira Knightley Stel...</td>\n",
       "      <td>[{'name': 'Dariusz Wolski', 'gender': 2, 'depa...</td>\n",
       "      <td>Gore Verbinski</td>\n",
       "    </tr>\n",
       "    <tr>\n",
       "      <th>2</th>\n",
       "      <td>2</td>\n",
       "      <td>245000000</td>\n",
       "      <td>Action Adventure Crime</td>\n",
       "      <td>http://www.sonypictures.com/movies/spectre/</td>\n",
       "      <td>206647</td>\n",
       "      <td>spy based on novel secret agent sequel mi6</td>\n",
       "      <td>en</td>\n",
       "      <td>Spectre</td>\n",
       "      <td>A cryptic message from Bond’s past sends him o...</td>\n",
       "      <td>107.376788</td>\n",
       "      <td>...</td>\n",
       "      <td>148.0</td>\n",
       "      <td>[{\"iso_639_1\": \"fr\", \"name\": \"Fran\\u00e7ais\"},...</td>\n",
       "      <td>Released</td>\n",
       "      <td>A Plan No One Escapes</td>\n",
       "      <td>Spectre</td>\n",
       "      <td>6.3</td>\n",
       "      <td>4466</td>\n",
       "      <td>Daniel Craig Christoph Waltz L\\u00e9a Seydoux ...</td>\n",
       "      <td>[{'name': 'Thomas Newman', 'gender': 2, 'depar...</td>\n",
       "      <td>Sam Mendes</td>\n",
       "    </tr>\n",
       "    <tr>\n",
       "      <th>3</th>\n",
       "      <td>3</td>\n",
       "      <td>250000000</td>\n",
       "      <td>Action Crime Drama Thriller</td>\n",
       "      <td>http://www.thedarkknightrises.com/</td>\n",
       "      <td>49026</td>\n",
       "      <td>dc comics crime fighter terrorist secret ident...</td>\n",
       "      <td>en</td>\n",
       "      <td>The Dark Knight Rises</td>\n",
       "      <td>Following the death of District Attorney Harve...</td>\n",
       "      <td>112.312950</td>\n",
       "      <td>...</td>\n",
       "      <td>165.0</td>\n",
       "      <td>[{\"iso_639_1\": \"en\", \"name\": \"English\"}]</td>\n",
       "      <td>Released</td>\n",
       "      <td>The Legend Ends</td>\n",
       "      <td>The Dark Knight Rises</td>\n",
       "      <td>7.6</td>\n",
       "      <td>9106</td>\n",
       "      <td>Christian Bale Michael Caine Gary Oldman Anne ...</td>\n",
       "      <td>[{'name': 'Hans Zimmer', 'gender': 2, 'departm...</td>\n",
       "      <td>Christopher Nolan</td>\n",
       "    </tr>\n",
       "    <tr>\n",
       "      <th>4</th>\n",
       "      <td>4</td>\n",
       "      <td>260000000</td>\n",
       "      <td>Action Adventure Science Fiction</td>\n",
       "      <td>http://movies.disney.com/john-carter</td>\n",
       "      <td>49529</td>\n",
       "      <td>based on novel mars medallion space travel pri...</td>\n",
       "      <td>en</td>\n",
       "      <td>John Carter</td>\n",
       "      <td>John Carter is a war-weary, former military ca...</td>\n",
       "      <td>43.926995</td>\n",
       "      <td>...</td>\n",
       "      <td>132.0</td>\n",
       "      <td>[{\"iso_639_1\": \"en\", \"name\": \"English\"}]</td>\n",
       "      <td>Released</td>\n",
       "      <td>Lost in our world, found in another.</td>\n",
       "      <td>John Carter</td>\n",
       "      <td>6.1</td>\n",
       "      <td>2124</td>\n",
       "      <td>Taylor Kitsch Lynn Collins Samantha Morton Wil...</td>\n",
       "      <td>[{'name': 'Andrew Stanton', 'gender': 2, 'depa...</td>\n",
       "      <td>Andrew Stanton</td>\n",
       "    </tr>\n",
       "  </tbody>\n",
       "</table>\n",
       "<p>5 rows × 24 columns</p>\n",
       "</div>"
      ],
      "text/plain": [
       "   index     budget                                    genres  \\\n",
       "0      0  237000000  Action Adventure Fantasy Science Fiction   \n",
       "1      1  300000000                  Adventure Fantasy Action   \n",
       "2      2  245000000                    Action Adventure Crime   \n",
       "3      3  250000000               Action Crime Drama Thriller   \n",
       "4      4  260000000          Action Adventure Science Fiction   \n",
       "\n",
       "                                       homepage      id  \\\n",
       "0                   http://www.avatarmovie.com/   19995   \n",
       "1  http://disney.go.com/disneypictures/pirates/     285   \n",
       "2   http://www.sonypictures.com/movies/spectre/  206647   \n",
       "3            http://www.thedarkknightrises.com/   49026   \n",
       "4          http://movies.disney.com/john-carter   49529   \n",
       "\n",
       "                                            keywords original_language  \\\n",
       "0  culture clash future space war space colony so...                en   \n",
       "1  ocean drug abuse exotic island east india trad...                en   \n",
       "2         spy based on novel secret agent sequel mi6                en   \n",
       "3  dc comics crime fighter terrorist secret ident...                en   \n",
       "4  based on novel mars medallion space travel pri...                en   \n",
       "\n",
       "                             original_title  \\\n",
       "0                                    Avatar   \n",
       "1  Pirates of the Caribbean: At World's End   \n",
       "2                                   Spectre   \n",
       "3                     The Dark Knight Rises   \n",
       "4                               John Carter   \n",
       "\n",
       "                                            overview  popularity  ... runtime  \\\n",
       "0  In the 22nd century, a paraplegic Marine is di...  150.437577  ...   162.0   \n",
       "1  Captain Barbossa, long believed to be dead, ha...  139.082615  ...   169.0   \n",
       "2  A cryptic message from Bond’s past sends him o...  107.376788  ...   148.0   \n",
       "3  Following the death of District Attorney Harve...  112.312950  ...   165.0   \n",
       "4  John Carter is a war-weary, former military ca...   43.926995  ...   132.0   \n",
       "\n",
       "                                    spoken_languages    status  \\\n",
       "0  [{\"iso_639_1\": \"en\", \"name\": \"English\"}, {\"iso...  Released   \n",
       "1           [{\"iso_639_1\": \"en\", \"name\": \"English\"}]  Released   \n",
       "2  [{\"iso_639_1\": \"fr\", \"name\": \"Fran\\u00e7ais\"},...  Released   \n",
       "3           [{\"iso_639_1\": \"en\", \"name\": \"English\"}]  Released   \n",
       "4           [{\"iso_639_1\": \"en\", \"name\": \"English\"}]  Released   \n",
       "\n",
       "                                          tagline  \\\n",
       "0                     Enter the World of Pandora.   \n",
       "1  At the end of the world, the adventure begins.   \n",
       "2                           A Plan No One Escapes   \n",
       "3                                 The Legend Ends   \n",
       "4            Lost in our world, found in another.   \n",
       "\n",
       "                                      title vote_average vote_count  \\\n",
       "0                                    Avatar          7.2      11800   \n",
       "1  Pirates of the Caribbean: At World's End          6.9       4500   \n",
       "2                                   Spectre          6.3       4466   \n",
       "3                     The Dark Knight Rises          7.6       9106   \n",
       "4                               John Carter          6.1       2124   \n",
       "\n",
       "                                                cast  \\\n",
       "0  Sam Worthington Zoe Saldana Sigourney Weaver S...   \n",
       "1  Johnny Depp Orlando Bloom Keira Knightley Stel...   \n",
       "2  Daniel Craig Christoph Waltz L\\u00e9a Seydoux ...   \n",
       "3  Christian Bale Michael Caine Gary Oldman Anne ...   \n",
       "4  Taylor Kitsch Lynn Collins Samantha Morton Wil...   \n",
       "\n",
       "                                                crew           director  \n",
       "0  [{'name': 'Stephen E. Rivkin', 'gender': 0, 'd...      James Cameron  \n",
       "1  [{'name': 'Dariusz Wolski', 'gender': 2, 'depa...     Gore Verbinski  \n",
       "2  [{'name': 'Thomas Newman', 'gender': 2, 'depar...         Sam Mendes  \n",
       "3  [{'name': 'Hans Zimmer', 'gender': 2, 'departm...  Christopher Nolan  \n",
       "4  [{'name': 'Andrew Stanton', 'gender': 2, 'depa...     Andrew Stanton  \n",
       "\n",
       "[5 rows x 24 columns]"
      ]
     },
     "metadata": {},
     "output_type": "display_data"
    },
    {
     "name": "stdout",
     "output_type": "stream",
     "text": [
      "(4803, 24)\n"
     ]
    }
   ],
   "source": [
    "# Reading the CSV file into a pandas DataFrame\n",
    "# Ensure that the file path is correct\n",
    "df = pd.read_csv('movies.csv')\n",
    "\n",
    "# Print the first 5 rows of the dataset to understand its structure\n",
    "display(df.head())\n",
    "\n",
    "# Print the shape (number of rows and coloumns) in the dataset to understand its structure\n",
    "print(df.shape)"
   ]
  },
  {
   "cell_type": "markdown",
   "metadata": {},
   "source": [
    "## Step 3: Choosing Important Features\n",
    "- When recommending movies, we want to consider what makes them unique. Let’s pick useful features!"
   ]
  },
  {
   "cell_type": "code",
   "execution_count": 101,
   "metadata": {},
   "outputs": [
    {
     "name": "stdout",
     "output_type": "stream",
     "text": [
      "['genres', 'keywords', 'tagline', 'cast', 'director', 'overview']\n"
     ]
    }
   ],
   "source": [
    "# We Create a list of important features\n",
    "selected_features = [\"genres\", \"keywords\", \"tagline\", \"cast\", \"director\", \"overview\"]\n",
    "print(selected_features)\n",
    "# gives out a list of selected featuers "
   ]
  },
  {
   "cell_type": "markdown",
   "metadata": {},
   "source": [
    "## Step 4: Handling Missing Data\n",
    "- Not all movies will have complete information, so we’ll fill missing values with an empty string:"
   ]
  },
  {
   "cell_type": "code",
   "execution_count": 102,
   "metadata": {},
   "outputs": [],
   "source": [
    "# Handle missing values by replacing NaNs with an empty string using a for loop\n",
    "for feature in selected_features:   # for loop iterate thorugh our selected_featuers list\n",
    "    df[feature] = df[feature].fillna(\"\")    # fills the nan value with empty string(\"\") in its place."
   ]
  },
  {
   "cell_type": "markdown",
   "metadata": {},
   "source": [
    "- fillna(\"\"):\n",
    "    - Replaces any missing values (NaNs) with an empty string to avoid issues when concatenating text data."
   ]
  },
  {
   "cell_type": "markdown",
   "metadata": {},
   "source": [
    "## Step 5: Combining Features\n",
    "- Now, we concatenate the selected features to form a single string representation for each movie\n",
    "- This merged text acts as a “fingerprint” for each movie!"
   ]
  },
  {
   "cell_type": "code",
   "execution_count": 103,
   "metadata": {},
   "outputs": [
    {
     "name": "stdout",
     "output_type": "stream",
     "text": [
      "0       Action Adventure Fantasy Science Fiction cultu...\n",
      "1       Adventure Fantasy Action ocean drug abuse exot...\n",
      "2       Action Adventure Crime spy based on novel secr...\n",
      "3       Action Crime Drama Thriller dc comics crime fi...\n",
      "4       Action Adventure Science Fiction based on nove...\n",
      "                              ...                        \n",
      "4798    Action Crime Thriller united states\\u2013mexic...\n",
      "4799    Comedy Romance  A newlywed couple's honeymoon ...\n",
      "4800    Comedy Drama Romance TV Movie date love at fir...\n",
      "4801      A New Yorker in Shanghai Daniel Henney Eliza...\n",
      "4802    Documentary obsession camcorder crush dream gi...\n",
      "Name: combined_features, Length: 4803, dtype: object\n"
     ]
    }
   ],
   "source": [
    "# Combine the selected features into a single string for each movie\n",
    "# Combine selected features into a single string\n",
    "df[\"combined_features\"] = (\n",
    "    df[\"genres\"]\n",
    "    + \" \"\n",
    "    + df[\"keywords\"]\n",
    "    + \" \"\n",
    "    + df[\"tagline\"]\n",
    "    + \" \"\n",
    "    + df[\"cast\"]\n",
    "    + \" \"\n",
    "    + df[\"director\"]\n",
    "    + \" \"\n",
    "    + df[\"overview\"]\n",
    ")\n",
    "\n",
    "# Preview the combined features\n",
    "print(df[\"combined_features\"])"
   ]
  },
  {
   "cell_type": "markdown",
   "metadata": {},
   "source": [
    "- Combines the selected columns into a single string for each movie.\n",
    "- This combined string serves as the movie profile."
   ]
  },
  {
   "cell_type": "markdown",
   "metadata": {},
   "source": [
    "## Step 6: Vectorizing the Text Data\n",
    "Computers don’t understand text directly — we must convert it into numbers."
   ]
  },
  {
   "cell_type": "code",
   "execution_count": 104,
   "metadata": {},
   "outputs": [
    {
     "name": "stdout",
     "output_type": "stream",
     "text": [
      "<Compressed Sparse Row sparse matrix of dtype 'float64'\n",
      "\twith 307355 stored elements and shape (4803, 30592)>\n",
      "  Coords\tValues\n",
      "  (0, 561)\t0.05971816344971169\n",
      "  (0, 703)\t0.06846420517510078\n",
      "  (0, 9754)\t0.08513696797398294\n",
      "  (0, 23977)\t0.07941905576010944\n",
      "  (0, 10023)\t0.07960231361105431\n",
      "  (0, 6601)\t0.1498786462809525\n",
      "  (0, 5279)\t0.1549075340655008\n",
      "  (0, 10796)\t0.11095111375730655\n",
      "  (0, 25413)\t0.24369151759694266\n",
      "  (0, 29469)\t0.08637114089261566\n",
      "  (0, 5592)\t0.17322386697661618\n",
      "  (0, 25232)\t0.1336739112380023\n",
      "  (0, 9065)\t0.14505772980982928\n",
      "  (0, 27118)\t0.08328687324810813\n",
      "  (0, 30121)\t0.07272849549697494\n",
      "  (0, 19410)\t0.0318696249813729\n",
      "  (0, 20039)\t0.37747447361884223\n",
      "  (0, 23619)\t0.11047375838269538\n",
      "  (0, 30145)\t0.18243919685121024\n",
      "  (0, 30543)\t0.15064979633862852\n",
      "  (0, 23578)\t0.16802034155542864\n",
      "  (0, 24802)\t0.158925784923944\n",
      "  (0, 29614)\t0.15064979633862852\n",
      "  (0, 25868)\t0.11590870590502833\n",
      "  (0, 15569)\t0.171366691592621\n",
      "  :\t:\n",
      "  (4802, 9588)\t0.10415492266309316\n",
      "  (4802, 21386)\t0.08975511036766048\n",
      "  (4802, 9166)\t0.07829183421073847\n",
      "  (4802, 24102)\t0.08207980733784753\n",
      "  (4802, 6136)\t0.10774075928383217\n",
      "  (4802, 14324)\t0.09933234978871472\n",
      "  (4802, 3875)\t0.10774075928383217\n",
      "  (4802, 8258)\t0.284128207029646\n",
      "  (4802, 2501)\t0.29133697059656616\n",
      "  (4802, 23076)\t0.08379553030608407\n",
      "  (4802, 10089)\t0.10415492266309316\n",
      "  (4802, 10738)\t0.10877787010859256\n",
      "  (4802, 11677)\t0.10415492266309316\n",
      "  (4802, 1833)\t0.09660213336802434\n",
      "  (4802, 7044)\t0.10877787010859256\n",
      "  (4802, 23793)\t0.10262332234993723\n",
      "  (4802, 1819)\t0.116986654174831\n",
      "  (4802, 7964)\t0.07432488153640866\n",
      "  (4802, 8403)\t0.11236370672933159\n",
      "  (4802, 250)\t0.12102518665736202\n",
      "  (4802, 6542)\t0.20524664469987447\n",
      "  (4802, 9910)\t0.11236370672933159\n",
      "  (4802, 11524)\t0.11236370672933159\n",
      "  (4802, 4278)\t0.11887938519964002\n",
      "  (4802, 12576)\t0.5646265481250229\n"
     ]
    }
   ],
   "source": [
    "# Convert the combined text data into numerical feature vectors using TF-IDF\n",
    "vectorizer = TfidfVectorizer()   # load the tfidvectorizer\n",
    "feature_vectors = vectorizer.fit_transform(df[\"combined_features\"])   # fit and transform the combined featues \n",
    "print(feature_vectors)"
   ]
  },
  {
   "cell_type": "markdown",
   "metadata": {},
   "source": [
    "- TfidfVectorizer():\n",
    "- Converts the combined text into numerical feature vectors.\n",
    "- How it Works?\n",
    "    - TF-IDF (Term Frequency-Inverse Document Frequency):\n",
    "    - Measures the importance of a word:\n",
    "        - Term Frequency (TF): Measures how frequently a word appears in a document.\n",
    "        - Inverse Document Frequency (IDF): Reduces the weight of common words (like \"the\", \"and\") that appear in many movies, so they don’t dominate the recommendations.\n",
    "        \n",
    "- Imagine TF-IDF as a highlighter — it emphasizes rare, meaningful words while dimming down common words that appear in most movies. This way, the model can focus on distinctive features rather than generic words.\n",
    "- Example: In a dataset with lots of sci-fi movies, words like \"future\" may appear often — IDF lowers their importance to avoid bias."
   ]
  },
  {
   "cell_type": "markdown",
   "metadata": {},
   "source": [
    "## Step 7: Calculating Cosine Similarity\n",
    "Next, we measure how similar two movies are using Cosine Similarity\n"
   ]
  },
  {
   "cell_type": "code",
   "execution_count": 105,
   "metadata": {},
   "outputs": [
    {
     "name": "stdout",
     "output_type": "stream",
     "text": [
      "[[1.         0.05083168 0.0332947  ... 0.02749812 0.0304889  0.0072518 ]\n",
      " [0.05083168 1.         0.04356836 ... 0.05077045 0.03100979 0.01521198]\n",
      " [0.0332947  0.04356836 1.         ... 0.02646984 0.04751623 0.01372603]\n",
      " ...\n",
      " [0.02749812 0.05077045 0.02646984 ... 1.         0.03481447 0.03546821]\n",
      " [0.0304889  0.03100979 0.04751623 ... 0.03481447 1.         0.03098945]\n",
      " [0.0072518  0.01521198 0.01372603 ... 0.03546821 0.03098945 1.        ]]\n"
     ]
    }
   ],
   "source": [
    "# Compute the cosine similarity matrix\n",
    "similarity = cosine_similarity(feature_vectors)\n",
    "print(similarity)\n",
    "\n",
    "# give out a matrix containing similarity values between 0 and 1 "
   ]
  },
  {
   "cell_type": "markdown",
   "metadata": {},
   "source": [
    "- Cosine Similarity:\n",
    "- Measures how similar two vectors are, based on the cosine of the angle between them.\n",
    "- Formula:              Cosine Similarity= A⋅B / ∣∣A∣∣×∣∣B∣∣\n",
    "\n",
    "- Range: 0 (completely different) to 1 (identical).\n",
    "- Example:\n",
    "    - If Movie A and Movie B have similar genres and cast, their similarity score will be closer to 1."
   ]
  },
  {
   "cell_type": "markdown",
   "metadata": {},
   "source": [
    "## Step 8: Finding Movie Matches\n",
    "Now, let’s take the user’s input and match it to the closest movie title:"
   ]
  },
  {
   "cell_type": "code",
   "execution_count": 106,
   "metadata": {},
   "outputs": [
    {
     "name": "stdout",
     "output_type": "stream",
     "text": [
      "Closest match: iron man\n"
     ]
    }
   ],
   "source": [
    "# we take an input from the user and convert it to lowercase\n",
    "input_movie = input(\"Enter a movie title: \").lower()\n",
    "\n",
    "# convert the titles in our dataset to lowercase to make comparison easier\n",
    "df[\"title\"] = df[\"title\"].str.lower()\n",
    "\n",
    "# try to find a close match using difflib.get_close_match\n",
    "# provide input movie and the target col that is title col as argumetns\n",
    "find_close_match = difflib.get_close_matches(input_movie, df['title'])\n",
    "\n",
    "#\n",
    "if find_close_match:  # If a match is found:\n",
    "    close_match = find_close_match[0] # It grabs the first match from the list (find_close_match[0]) — the most similar title.\n",
    "    print(f\"Closest match: {close_match}\")  # Prints the closest matching movie title.\n",
    "else:  # If no match is found:\n",
    "      print(\"Movie not found. Please try another title.\")  # Prints a message asking the user to try another title."
   ]
  },
  {
   "cell_type": "markdown",
   "metadata": {},
   "source": [
    "- Why difflib?\n",
    "- It helps us handle typos and spelling errors — so typing “Incepton” instead of “Inception” still works!"
   ]
  },
  {
   "cell_type": "markdown",
   "metadata": {},
   "source": [
    "## Step 9: Finding Similar Movies\n"
   ]
  },
  {
   "cell_type": "code",
   "execution_count": 107,
   "metadata": {},
   "outputs": [],
   "source": [
    "# Once we have the correct movie title, we’ll grab its index\n",
    "index_of_movie = df[df.title == close_match].index[0]\n",
    "# df[df.title == close_match]: This filters the DataFrame to only include the row where the title matches close_match (the closest movie title we found earlier).\n",
    "# .index[0]: Extracts the index of the matched movie. This index will help us locate the similarity scores for that specific movie.\n",
    "\n",
    "# Retrieve similarity scores using enumerate function for all movies:\n",
    "similarity_score = list(enumerate(similarity[index_of_movie]))\n",
    "# similarity[index_of_movie]: Retrieves the row of similarity scores for the matched movie.\n",
    "# For movie at index 3, this would grab all similarity scores for that movie.\n",
    "# enumerate(): Wraps the similarity scores in (index, score) pairs so we can keep track of movie indices while sorting.\n",
    "\n",
    "# Sort them in descending order:\n",
    "sorted_similarity_score = sorted(similarity_score, key=lambda x: x[1], reverse=True)\n",
    "# sorted(): Sorts the list of (index, similarity score) pairs.\n",
    "# key=lambda x: x[1]: Tells Python to sort the list by the similarity score (x[1]).\n",
    "# reverse=True: Sorts the list in descending order — most similar movies appear first."
   ]
  },
  {
   "cell_type": "markdown",
   "metadata": {},
   "source": [
    "## Step 10: Displaying Recommendations"
   ]
  },
  {
   "cell_type": "code",
   "execution_count": 108,
   "metadata": {},
   "outputs": [
    {
     "name": "stdout",
     "output_type": "stream",
     "text": [
      "\n",
      "Movies similar to 'Iron Man':\n",
      "\n",
      "1. Iron Man 2\n",
      "2. Iron Man 3\n",
      "3. Avengers: Age Of Ultron\n",
      "4. The Avengers\n",
      "5. X-Men\n",
      "6. The Helix... Loaded\n",
      "7. Captain America: Civil War\n",
      "8. X-Men: Apocalypse\n",
      "9. Ant-Man\n",
      "10. Made\n"
     ]
    }
   ],
   "source": [
    "print(f\"\\nMovies similar to '{close_match.title()}':\\n\")\n",
    "\n",
    "i = 1  # Initializes a counter to number the recommendations.\n",
    "\n",
    "# Loops through the sorted similarity scores.\n",
    "# [1:11]: Skips the first entry (which is the movie itself) and gets the top 10 similar movies.\n",
    "for movie in sorted_similarity_score[1:11]:  \n",
    "    index = movie[0]   # extract index \n",
    "    title_from_index = df.loc[index, \"title\"]  # look up for the title based on the idnex\n",
    "    print(f\"{i}. {title_from_index.title()}\")\n",
    "    i += 1"
   ]
  },
  {
   "cell_type": "markdown",
   "metadata": {},
   "source": [
    "## Step 11: Function for Movie Recommendation"
   ]
  },
  {
   "cell_type": "code",
   "execution_count": 109,
   "metadata": {},
   "outputs": [],
   "source": [
    "# Function to get movie recommendations\n",
    "def recommend_movies():\n",
    "    input_movie = input(\"Type the name of a movie: \")\n",
    "\n",
    "    # Convert all titles to lowercase to handle case sensitivity\n",
    "    input_movie = input_movie.lower()\n",
    "    df[\"title\"] = df[\"title\"].str.lower()\n",
    "\n",
    "    # Create a list of all movie titles\n",
    "    list_of_titles = df[\"title\"].tolist()\n",
    "\n",
    "    # Find the closest match to the input movie\n",
    "    find_close_match = difflib.get_close_matches(input_movie, list_of_titles)\n",
    "\n",
    "    if not find_close_match:\n",
    "        print(\"Movie not found. Please try another title.\")\n",
    "        return\n",
    "\n",
    "    close_match = find_close_match[0]\n",
    "    print(f\"\\nClosest match found: {close_match.title()}\\n\")\n",
    "\n",
    "    # Find the index of the matched movie\n",
    "    index_of_movie = df[df.title == close_match].index[0]\n",
    "\n",
    "    # Get a list of similar movies based on similarity scores\n",
    "    similarity_score = list(enumerate(similarity[index_of_movie]))\n",
    "\n",
    "    # Sort movies by similarity score in descending order\n",
    "    sorted_similarity_score = sorted(similarity_score, key=lambda x: x[1], reverse=True)\n",
    "\n",
    "    # Print the top 10 recommended movies\n",
    "    print(\"Top 10 Recommended Movies:\\n\")\n",
    "    i = 1\n",
    "    for movie in sorted_similarity_score[\n",
    "        1:11\n",
    "    ]:  # Skip the first one because it's the input movie itself\n",
    "        index = movie[0]\n",
    "        title_from_index = df.iloc[index][\"title\"].title()\n",
    "        print(f\"{i}. {title_from_index}\")\n",
    "        i += 1"
   ]
  },
  {
   "cell_type": "code",
   "execution_count": 110,
   "metadata": {},
   "outputs": [
    {
     "name": "stdout",
     "output_type": "stream",
     "text": [
      "\n",
      "Closest match found: Avatar\n",
      "\n",
      "Top 10 Recommended Movies:\n",
      "\n",
      "1. Lifeforce\n",
      "2. Moonraker\n",
      "3. Alien\n",
      "4. Star Trek Beyond\n",
      "5. Gattaca\n",
      "6. Aliens\n",
      "7. Guardians Of The Galaxy\n",
      "8. Gravity\n",
      "9. Lockout\n",
      "10. Apollo 18\n"
     ]
    }
   ],
   "source": [
    "# Run the recommendation function\n",
    "recommend_movies()"
   ]
  },
  {
   "cell_type": "markdown",
   "metadata": {},
   "source": [
    "# Summary: Flowchart about how Our Movie Recommendation System Works\n",
    "- This flowchart summarizes the entire process — from taking a movie title as input to generating personalized recommendations. It highlights the key libraries and steps that power the recommendation engine!\n",
    "\n",
    "**Start: User Inputs a Movie Title**  \n",
    "        ↓  \n",
    "**Step 1: Load and Preprocess Data (pandas)**  \n",
    "- Read the CSV file  \n",
    "- Fill missing values in relevant features (genres, keywords, tagline, cast, director)  \n",
    "        ↓  \n",
    "**Step 2: Combine Features**  \n",
    "- Merge selected features into a single string  \n",
    "        ↓  \n",
    "**Step 3: Text Vectorization (TfidfVectorizer from sklearn)**  \n",
    "- Convert combined text into numerical feature vectors  \n",
    "        ↓  \n",
    "**Step 4: Calculate Similarity (cosine_similarity from sklearn)**  \n",
    "- Compute cosine similarity scores between movies  \n",
    "        ↓  \n",
    "**Step 5: Match User Input (difflib)**  \n",
    "- Find the closest matching movie title (handles typos)  \n",
    "        ↓  \n",
    "**Step 6: Sort and Recommend Movies**  \n",
    "- Rank movies based on similarity scores  \n",
    "- Display the top N recommended movies  \n",
    "        ↓  \n",
    "End: Show Recommendations to the User  \n"
   ]
  }
 ],
 "metadata": {
  "kernelspec": {
   "display_name": "Python 3",
   "language": "python",
   "name": "python3"
  },
  "language_info": {
   "codemirror_mode": {
    "name": "ipython",
    "version": 3
   },
   "file_extension": ".py",
   "mimetype": "text/x-python",
   "name": "python",
   "nbconvert_exporter": "python",
   "pygments_lexer": "ipython3",
   "version": "3.11.2"
  }
 },
 "nbformat": 4,
 "nbformat_minor": 2
}
